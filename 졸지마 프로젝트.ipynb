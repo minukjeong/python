{
 "cells": [
  {
   "cell_type": "markdown",
   "metadata": {},
   "source": [
    "# 라이브러리 설정 및 세팅"
   ]
  },
  {
   "cell_type": "code",
   "execution_count": 1,
   "metadata": {},
   "outputs": [
    {
     "data": {
      "text/plain": [
       "True"
      ]
     },
     "execution_count": 1,
     "metadata": {},
     "output_type": "execute_result"
    }
   ],
   "source": [
    "import cv2\n",
    "capture = cv2.VideoCapture(0)\n",
    "\n",
    "capture.set(cv2.CAP_PROP_FRAME_WIDTH, 320)\n",
    "capture.set(cv2.CAP_PROP_FRAME_HEIGHT, 240)"
   ]
  },
  {
   "cell_type": "code",
   "execution_count": 20,
   "metadata": {},
   "outputs": [],
   "source": [
    "import tensorflow.keras\n",
    "import numpy as np\n",
    "import kakao_utils"
   ]
  },
  {
   "cell_type": "markdown",
   "metadata": {},
   "source": [
    "# 학습 된 모델 불러오기\n",
    "google Teachable Machine 으로 학습 한 데이터를 불러옴"
   ]
  },
  {
   "cell_type": "code",
   "execution_count": 3,
   "metadata": {},
   "outputs": [
    {
     "name": "stdout",
     "output_type": "stream",
     "text": [
      "WARNING:tensorflow:No training configuration found in the save file, so the model was *not* compiled. Compile it manually.\n"
     ]
    }
   ],
   "source": [
    "model_filename = \"C:/Users/gram/Desktop/파이썬메시업프로젝트/converted_keras/keras_model.h5\"\n",
    "\n",
    "model = tensorflow.keras.models.load_model(model_filename)"
   ]
  },
  {
   "cell_type": "markdown",
   "metadata": {},
   "source": [
    "# 카카오 톡 API 설정"
   ]
  },
  {
   "cell_type": "code",
   "execution_count": 4,
   "metadata": {},
   "outputs": [],
   "source": [
    "import winsound as ws\n",
    "\n",
    "def beepsound():\n",
    "    freq = 440\n",
    "    dur = 2000\n",
    "    ws.Beep(freq, dur)\n",
    "\n",
    "beepsound()"
   ]
  },
  {
   "cell_type": "code",
   "execution_count": 21,
   "metadata": {},
   "outputs": [],
   "source": [
    "def send_music_link():\n",
    "    KAKAO_TOKEN_FILENAME = \"C:/Users/gram/Desktop/파이썬메시업프로젝트/res/kakao_message/kakao_token.json\"\n",
    "    KAKAO_APP_KEY = \"ec2080a0764544d8c438ffa77c95bd41\"\n",
    "    tokens = kakao_utils.update_tokens(KAKAO_APP_KEY, KAKAO_TOKEN_FILENAME)\n",
    "\n",
    "\n",
    "    # 텍스트 메시지 보내기\n",
    "    template = {\n",
    "        \"object_type\": \"text\",\n",
    "        \"text\": \"당신은 30초 이상 졸았습니다. 졸지 마세요!!!!\",\n",
    "        \"link\": {\n",
    "            \"web_url\": \"https://www.youtube.com/watch?v=7Q2N7919o5o\",\n",
    "            \"mobile_web_url\": \"https://www.youtube.com/watch?v=7Q2N7919o5o\"\n",
    "        },\n",
    "        \"button_title\": \"잠깨는 노래 듣기\"\n",
    "    }\n",
    "\n",
    "    # 카카오톡 메시지 전송\n",
    "    res = kakao_utils.send_message(KAKAO_TOKEN_FILENAME, template)\n",
    "    if res.json().get('result_code') == 0:\n",
    "        print('텍스트 메시지를 성공적으로 보냈습니다.')\n",
    "    else:\n",
    "        print('텍스트 메시지를 보내지 못했습니다. 오류메시지 : ', res.json())"
   ]
  },
  {
   "cell_type": "code",
   "execution_count": 22,
   "metadata": {},
   "outputs": [
    {
     "name": "stdout",
     "output_type": "stream",
     "text": [
      "{'access_token': 'dECwnMUpT1MKsavJnxY8TMF_jN_nuzkxdVlkpAopb7kAAAF9aoJFTw', 'token_type': 'bearer', 'expires_in': 21599}\n",
      "텍스트 메시지를 성공적으로 보냈습니다.\n"
     ]
    }
   ],
   "source": [
    "send_music_link()"
   ]
  },
  {
   "cell_type": "markdown",
   "metadata": {},
   "source": [
    "# 이미지 조정"
   ]
  },
  {
   "cell_type": "code",
   "execution_count": 23,
   "metadata": {},
   "outputs": [],
   "source": [
    "def preprocessing(frame):\n",
    "    #이미지 뒤집기\n",
    "    frame_fliped = cv2.flip(frame, 1)\n",
    "    # 크기 조정\n",
    "    size = (224, 224)\n",
    "    frame_resized = cv2.resize(frame_fliped, size, interpolation=cv2.INTER_AREA)\n",
    "\n",
    "    # 이미지 정규화\n",
    "    frame_normalized = (frame_resized.astype(np.float32) / 127.0) - 1\n",
    "\n",
    "    # 이미지 차원 재조정 - 예측을 위해 reshape 해줍니다.\n",
    "    frame_reshaped = frame_normalized.reshape((1, 224, 224, 3))\n",
    "\n",
    "    return frame_reshaped"
   ]
  },
  {
   "cell_type": "code",
   "execution_count": 24,
   "metadata": {},
   "outputs": [],
   "source": [
    "def predict(preprocessed):\n",
    "    prediction = model.predict(preprocessed)\n",
    "    return prediction"
   ]
  },
  {
   "cell_type": "markdown",
   "metadata": {},
   "source": [
    "# 실행"
   ]
  },
  {
   "cell_type": "code",
   "execution_count": 27,
   "metadata": {},
   "outputs": [
    {
     "name": "stdout",
     "output_type": "stream",
     "text": [
      "졸림 상태\n",
      "깨어있는 상태\n",
      "졸림 상태\n",
      "깨어있는 상태\n",
      "졸림 상태\n",
      "깨어있는 상태\n",
      "졸림 상태\n",
      "깨어있는 상태\n",
      "졸림 상태\n",
      "깨어있는 상태\n",
      "졸림 상태\n",
      "깨어있는 상태\n",
      "졸림 상태\n",
      "깨어있는 상태\n",
      "졸림 상태\n",
      "깨어있는 상태\n",
      "졸림 상태\n",
      "깨어있는 상태\n",
      "졸림 상태\n",
      "깨어있는 상태\n",
      "졸림 상태\n",
      "깨어있는 상태\n",
      "졸림 상태\n",
      "깨어있는 상태\n",
      "졸림 상태\n",
      "깨어있는 상태\n",
      "졸림 상태\n",
      "깨어있는 상태\n",
      "졸림 상태\n",
      "깨어있는 상태\n",
      "졸림 상태\n",
      "깨어있는 상태\n",
      "졸림 상태\n",
      "깨어있는 상태\n",
      "졸림 상태\n",
      "깨어있는 상태\n",
      "졸림 상태\n",
      "깨어있는 상태\n",
      "졸림 상태\n",
      "깨어있는 상태\n",
      "졸림 상태\n",
      "깨어있는 상태\n",
      "졸림 상태\n",
      "깨어있는 상태\n",
      "졸림 상태\n",
      "깨어있는 상태\n",
      "졸림 상태\n",
      "깨어있는 상태\n",
      "졸림 상태\n",
      "깨어있는 상태\n"
     ]
    }
   ],
   "source": [
    "sleep_cnt = 1\n",
    "\n",
    "while True:\n",
    "    ret, frame = capture.read()\n",
    "    #if ret = True:\n",
    "     #   print(\"read success!\")\n",
    "        \n",
    "    if cv2.waitKey(1000) > 0:\n",
    "        break\n",
    "    \n",
    "    cv2.imshow(\"VideoFrame\", frame)\n",
    "    \n",
    "    preprocessed = preprocessing(frame)\n",
    "    \n",
    "    prediction = predict(preprocessed)\n",
    "    \n",
    "    if prediction[0,0] < prediction[0,1]:\n",
    "        print('졸림 상태')\n",
    "        sleep_cnt += 1\n",
    "\n",
    "        # 졸린 상태가 30초간 지속되면 소리 & 카카오톡 보내기\n",
    "        if sleep_cnt % 30 == 0:\n",
    "            sleep_cnt = 1\n",
    "            print('30초간 졸고 있네요!!!')\n",
    "            beepsound()\n",
    "            send_music_link()\n",
    "            break ## 1번만 알람이 오면 프로그램을 정지 시킴 (반복을 원한다면, 주석으로 막기!)\n",
    "        else:\n",
    "            print('깨어있는 상태')\n",
    "            sleep_cnt = 1\n",
    "\n",
    "cv2.destroyAllWindows()"
   ]
  },
  {
   "cell_type": "code",
   "execution_count": null,
   "metadata": {},
   "outputs": [],
   "source": []
  }
 ],
 "metadata": {
  "kernelspec": {
   "display_name": "Python 3",
   "language": "python",
   "name": "python3"
  },
  "language_info": {
   "codemirror_mode": {
    "name": "ipython",
    "version": 3
   },
   "file_extension": ".py",
   "mimetype": "text/x-python",
   "name": "python",
   "nbconvert_exporter": "python",
   "pygments_lexer": "ipython3",
   "version": "3.7.6"
  }
 },
 "nbformat": 4,
 "nbformat_minor": 4
}
