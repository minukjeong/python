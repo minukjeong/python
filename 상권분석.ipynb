{
 "cells": [
  {
   "cell_type": "code",
   "execution_count": 1,
   "metadata": {},
   "outputs": [],
   "source": [
    "import pandas as pd"
   ]
  },
  {
   "cell_type": "code",
   "execution_count": 2,
   "metadata": {},
   "outputs": [],
   "source": [
    "import seaborn as sns"
   ]
  },
  {
   "cell_type": "code",
   "execution_count": 10,
   "metadata": {},
   "outputs": [
    {
     "data": {
      "text/plain": [
       "<matplotlib.axes._subplots.AxesSubplot at 0x26c7bf1aa88>"
      ]
     },
     "execution_count": 10,
     "metadata": {},
     "output_type": "execute_result"
    },
    {
     "data": {
      "image/png": "[encoded data removed]",
      "text/plain": [
       "<Figure size 432x288 with 1 Axes>"
      ]
     },
     "metadata": {
      "needs_background": "light"
     },
     "output_type": "display_data"
    }
   ],
   "source": [
    "pd.Series([-4,1,0,3,-2,4,5]).plot(title=\"한글폰트 설정\")"
   ]
  },
  {
   "cell_type": "code",
   "execution_count": 3,
   "metadata": {},
   "outputs": [],
   "source": [
    "import matplotlib.pyplot as plt"
   ]
  },
  {
   "cell_type": "code",
   "execution_count": 4,
   "metadata": {},
   "outputs": [],
   "source": [
    "plt.rc(\"font\",family=\"malgun Gothic\")"
   ]
  },
  {
   "cell_type": "code",
   "execution_count": 5,
   "metadata": {},
   "outputs": [],
   "source": [
    "plt.rc(\"axes\", unicode_minus=False)"
   ]
  },
  {
   "cell_type": "code",
   "execution_count": 6,
   "metadata": {},
   "outputs": [
    {
     "name": "stdout",
     "output_type": "stream",
     "text": [
      " C 드라이브의 볼륨에는 이름이 없습니다.\n",
      " 볼륨 일련 번호: A2A8-BF17\n",
      "\n",
      " C:\\Users\\gram 디렉터리\n",
      "\n"
     ]
    },
    {
     "name": "stderr",
     "output_type": "stream",
     "text": [
      "파일을 찾을 수 없습니다.\n"
     ]
    }
   ],
   "source": [
    "%ls data"
   ]
  },
  {
   "cell_type": "code",
   "execution_count": 7,
   "metadata": {},
   "outputs": [],
   "source": [
    "df = pd.read_csv(\"C:/Temp/상가업소정보_201912_01.csv\",sep='|')"
   ]
  },
  {
   "cell_type": "code",
   "execution_count": 8,
   "metadata": {
    "scrolled": true
   },
   "outputs": [
    {
     "data": {
      "text/html": [
       "<div>\n",
       "<style scoped>\n",
       "    .dataframe tbody tr th:only-of-type {\n",
       "        vertical-align: middle;\n",
       "    }\n",
       "\n",
       "    .dataframe tbody tr th {\n",
       "        vertical-align: top;\n",
       "    }\n",
       "\n",
       "    .dataframe thead th {\n",
       "        text-align: right;\n",
       "    }\n",
       "</style>\n",
       "<table border=\"1\" class=\"dataframe\">\n",
       "  <thead>\n",
       "    <tr style=\"text-align: right;\">\n",
       "      <th></th>\n",
       "      <th>상가업소번호</th>\n",
       "      <th>상호명</th>\n",
       "      <th>지점명</th>\n",
       "      <th>상권업종대분류코드</th>\n",
       "      <th>상권업종대분류명</th>\n",
       "      <th>상권업종중분류코드</th>\n",
       "      <th>상권업종중분류명</th>\n",
       "      <th>상권업종소분류코드</th>\n",
       "      <th>상권업종소분류명</th>\n",
       "      <th>표준산업분류코드</th>\n",
       "      <th>...</th>\n",
       "      <th>건물관리번호</th>\n",
       "      <th>건물명</th>\n",
       "      <th>도로명주소</th>\n",
       "      <th>구우편번호</th>\n",
       "      <th>신우편번호</th>\n",
       "      <th>동정보</th>\n",
       "      <th>층정보</th>\n",
       "      <th>호정보</th>\n",
       "      <th>경도</th>\n",
       "      <th>위도</th>\n",
       "    </tr>\n",
       "  </thead>\n",
       "  <tbody>\n",
       "    <tr>\n",
       "      <th>0</th>\n",
       "      <td>19905471</td>\n",
       "      <td>와라와라호프</td>\n",
       "      <td>NaN</td>\n",
       "      <td>Q</td>\n",
       "      <td>음식</td>\n",
       "      <td>Q09</td>\n",
       "      <td>유흥주점</td>\n",
       "      <td>Q09A01</td>\n",
       "      <td>호프/맥주</td>\n",
       "      <td>I56219</td>\n",
       "      <td>...</td>\n",
       "      <td>1168010600106040000014378</td>\n",
       "      <td>대치상가</td>\n",
       "      <td>서울특별시 강남구 남부순환로 2933</td>\n",
       "      <td>135280</td>\n",
       "      <td>6280.0</td>\n",
       "      <td>NaN</td>\n",
       "      <td>1</td>\n",
       "      <td>NaN</td>\n",
       "      <td>127.061026</td>\n",
       "      <td>37.493922</td>\n",
       "    </tr>\n",
       "    <tr>\n",
       "      <th>1</th>\n",
       "      <td>19911397</td>\n",
       "      <td>커피빈코리아선릉로93길점</td>\n",
       "      <td>코리아선릉로93길점</td>\n",
       "      <td>Q</td>\n",
       "      <td>음식</td>\n",
       "      <td>Q12</td>\n",
       "      <td>커피점/카페</td>\n",
       "      <td>Q12A01</td>\n",
       "      <td>커피전문점/카페/다방</td>\n",
       "      <td>I56220</td>\n",
       "      <td>...</td>\n",
       "      <td>1168010100106960042022041</td>\n",
       "      <td>NaN</td>\n",
       "      <td>서울특별시 강남구 선릉로93길 6</td>\n",
       "      <td>135080</td>\n",
       "      <td>6149.0</td>\n",
       "      <td>NaN</td>\n",
       "      <td>1</td>\n",
       "      <td>NaN</td>\n",
       "      <td>127.047883</td>\n",
       "      <td>37.505675</td>\n",
       "    </tr>\n",
       "    <tr>\n",
       "      <th>2</th>\n",
       "      <td>19911801</td>\n",
       "      <td>프로포즈</td>\n",
       "      <td>NaN</td>\n",
       "      <td>Q</td>\n",
       "      <td>음식</td>\n",
       "      <td>Q09</td>\n",
       "      <td>유흥주점</td>\n",
       "      <td>Q09A01</td>\n",
       "      <td>호프/맥주</td>\n",
       "      <td>I56219</td>\n",
       "      <td>...</td>\n",
       "      <td>1154510200101620001017748</td>\n",
       "      <td>NaN</td>\n",
       "      <td>서울특별시 금천구 가산로 34-6</td>\n",
       "      <td>153010</td>\n",
       "      <td>8545.0</td>\n",
       "      <td>NaN</td>\n",
       "      <td>1</td>\n",
       "      <td>NaN</td>\n",
       "      <td>126.899220</td>\n",
       "      <td>37.471711</td>\n",
       "    </tr>\n",
       "    <tr>\n",
       "      <th>3</th>\n",
       "      <td>19912201</td>\n",
       "      <td>싱싱커피&amp;토스트</td>\n",
       "      <td>NaN</td>\n",
       "      <td>Q</td>\n",
       "      <td>음식</td>\n",
       "      <td>Q07</td>\n",
       "      <td>패스트푸드</td>\n",
       "      <td>Q07A10</td>\n",
       "      <td>토스트전문</td>\n",
       "      <td>I56192</td>\n",
       "      <td>...</td>\n",
       "      <td>2653010400105780000002037</td>\n",
       "      <td>산업용품유통상가</td>\n",
       "      <td>부산광역시 사상구 괘감로 37</td>\n",
       "      <td>617726</td>\n",
       "      <td>46977.0</td>\n",
       "      <td>NaN</td>\n",
       "      <td>1</td>\n",
       "      <td>26</td>\n",
       "      <td>128.980455</td>\n",
       "      <td>35.159774</td>\n",
       "    </tr>\n",
       "    <tr>\n",
       "      <th>4</th>\n",
       "      <td>19932756</td>\n",
       "      <td>가락사우나내스낵</td>\n",
       "      <td>NaN</td>\n",
       "      <td>F</td>\n",
       "      <td>생활서비스</td>\n",
       "      <td>F09</td>\n",
       "      <td>대중목욕탕/휴게</td>\n",
       "      <td>F09A02</td>\n",
       "      <td>사우나/증기탕/온천</td>\n",
       "      <td>S96121</td>\n",
       "      <td>...</td>\n",
       "      <td>1171010500102560005010490</td>\n",
       "      <td>NaN</td>\n",
       "      <td>서울특별시 송파구 가락로 71</td>\n",
       "      <td>138846</td>\n",
       "      <td>5690.0</td>\n",
       "      <td>NaN</td>\n",
       "      <td>1</td>\n",
       "      <td>NaN</td>\n",
       "      <td>127.104071</td>\n",
       "      <td>37.500249</td>\n",
       "    </tr>\n",
       "    <tr>\n",
       "      <th>...</th>\n",
       "      <td>...</td>\n",
       "      <td>...</td>\n",
       "      <td>...</td>\n",
       "      <td>...</td>\n",
       "      <td>...</td>\n",
       "      <td>...</td>\n",
       "      <td>...</td>\n",
       "      <td>...</td>\n",
       "      <td>...</td>\n",
       "      <td>...</td>\n",
       "      <td>...</td>\n",
       "      <td>...</td>\n",
       "      <td>...</td>\n",
       "      <td>...</td>\n",
       "      <td>...</td>\n",
       "      <td>...</td>\n",
       "      <td>...</td>\n",
       "      <td>...</td>\n",
       "      <td>...</td>\n",
       "      <td>...</td>\n",
       "      <td>...</td>\n",
       "    </tr>\n",
       "    <tr>\n",
       "      <th>573675</th>\n",
       "      <td>16394290</td>\n",
       "      <td>비파티세리공덕</td>\n",
       "      <td>NaN</td>\n",
       "      <td>Q</td>\n",
       "      <td>음식</td>\n",
       "      <td>Q01</td>\n",
       "      <td>한식</td>\n",
       "      <td>Q01A01</td>\n",
       "      <td>한식/백반/한정식</td>\n",
       "      <td>I56111</td>\n",
       "      <td>...</td>\n",
       "      <td>1144010200101050067001710</td>\n",
       "      <td>NaN</td>\n",
       "      <td>서울특별시 마포구 마포대로14길 4</td>\n",
       "      <td>121801</td>\n",
       "      <td>4211.0</td>\n",
       "      <td>NaN</td>\n",
       "      <td>NaN</td>\n",
       "      <td>NaN</td>\n",
       "      <td>126.955059</td>\n",
       "      <td>37.548618</td>\n",
       "    </tr>\n",
       "    <tr>\n",
       "      <th>573676</th>\n",
       "      <td>16336474</td>\n",
       "      <td>앤탑PC방</td>\n",
       "      <td>NaN</td>\n",
       "      <td>N</td>\n",
       "      <td>관광/여가/오락</td>\n",
       "      <td>N01</td>\n",
       "      <td>PC/오락/당구/볼링등</td>\n",
       "      <td>N01A01</td>\n",
       "      <td>인터넷PC방</td>\n",
       "      <td>R91222</td>\n",
       "      <td>...</td>\n",
       "      <td>1120011500102890015004255</td>\n",
       "      <td>으뜸프린팅(주)</td>\n",
       "      <td>서울특별시 성동구 성수일로8길 37</td>\n",
       "      <td>133834</td>\n",
       "      <td>4794.0</td>\n",
       "      <td>NaN</td>\n",
       "      <td>2</td>\n",
       "      <td>NaN</td>\n",
       "      <td>127.054615</td>\n",
       "      <td>37.545853</td>\n",
       "    </tr>\n",
       "    <tr>\n",
       "      <th>573677</th>\n",
       "      <td>16336218</td>\n",
       "      <td>오즈아레나PC방</td>\n",
       "      <td>NaN</td>\n",
       "      <td>N</td>\n",
       "      <td>관광/여가/오락</td>\n",
       "      <td>N01</td>\n",
       "      <td>PC/오락/당구/볼링등</td>\n",
       "      <td>N01A01</td>\n",
       "      <td>인터넷PC방</td>\n",
       "      <td>R91222</td>\n",
       "      <td>...</td>\n",
       "      <td>1168010800101650008000001</td>\n",
       "      <td>한맥빌딩</td>\n",
       "      <td>서울특별시 강남구 강남대로 492</td>\n",
       "      <td>135825</td>\n",
       "      <td>6119.0</td>\n",
       "      <td>NaN</td>\n",
       "      <td>2</td>\n",
       "      <td>NaN</td>\n",
       "      <td>127.024102</td>\n",
       "      <td>37.506202</td>\n",
       "    </tr>\n",
       "    <tr>\n",
       "      <th>573678</th>\n",
       "      <td>16335152</td>\n",
       "      <td>파인트리네일</td>\n",
       "      <td>NaN</td>\n",
       "      <td>F</td>\n",
       "      <td>생활서비스</td>\n",
       "      <td>F01</td>\n",
       "      <td>이/미용/건강</td>\n",
       "      <td>F01A02</td>\n",
       "      <td>발/네일케어</td>\n",
       "      <td>S96119</td>\n",
       "      <td>...</td>\n",
       "      <td>1156011000100230000000001</td>\n",
       "      <td>서울국제금융센터</td>\n",
       "      <td>서울특별시 영등포구 국제금융로 10</td>\n",
       "      <td>150945</td>\n",
       "      <td>7326.0</td>\n",
       "      <td>NaN</td>\n",
       "      <td>1</td>\n",
       "      <td>NaN</td>\n",
       "      <td>126.924863</td>\n",
       "      <td>37.525172</td>\n",
       "    </tr>\n",
       "    <tr>\n",
       "      <th>573679</th>\n",
       "      <td>16335150</td>\n",
       "      <td>마이리틀네일</td>\n",
       "      <td>NaN</td>\n",
       "      <td>F</td>\n",
       "      <td>생활서비스</td>\n",
       "      <td>F01</td>\n",
       "      <td>이/미용/건강</td>\n",
       "      <td>F01A02</td>\n",
       "      <td>발/네일케어</td>\n",
       "      <td>S96119</td>\n",
       "      <td>...</td>\n",
       "      <td>1132010700108120000018489</td>\n",
       "      <td>현대타운아파트</td>\n",
       "      <td>서울특별시 도봉구 도봉로114길 22-8</td>\n",
       "      <td>132691</td>\n",
       "      <td>1455.0</td>\n",
       "      <td>101</td>\n",
       "      <td>NaN</td>\n",
       "      <td>NaN</td>\n",
       "      <td>127.035145</td>\n",
       "      <td>37.647099</td>\n",
       "    </tr>\n",
       "  </tbody>\n",
       "</table>\n",
       "<p>573680 rows × 39 columns</p>\n",
       "</div>"
      ],
      "text/plain": [
       "          상가업소번호            상호명         지점명 상권업종대분류코드  상권업종대분류명 상권업종중분류코드  \\\n",
       "0       19905471         와라와라호프         NaN         Q        음식       Q09   \n",
       "1       19911397  커피빈코리아선릉로93길점  코리아선릉로93길점         Q        음식       Q12   \n",
       "2       19911801           프로포즈         NaN         Q        음식       Q09   \n",
       "3       19912201       싱싱커피&토스트         NaN         Q        음식       Q07   \n",
       "4       19932756       가락사우나내스낵         NaN         F     생활서비스       F09   \n",
       "...          ...            ...         ...       ...       ...       ...   \n",
       "573675  16394290        비파티세리공덕         NaN         Q        음식       Q01   \n",
       "573676  16336474          앤탑PC방         NaN         N  관광/여가/오락       N01   \n",
       "573677  16336218       오즈아레나PC방         NaN         N  관광/여가/오락       N01   \n",
       "573678  16335152         파인트리네일         NaN         F     생활서비스       F01   \n",
       "573679  16335150         마이리틀네일         NaN         F     생활서비스       F01   \n",
       "\n",
       "            상권업종중분류명 상권업종소분류코드     상권업종소분류명 표준산업분류코드  ...  \\\n",
       "0               유흥주점    Q09A01        호프/맥주   I56219  ...   \n",
       "1             커피점/카페    Q12A01  커피전문점/카페/다방   I56220  ...   \n",
       "2               유흥주점    Q09A01        호프/맥주   I56219  ...   \n",
       "3              패스트푸드    Q07A10        토스트전문   I56192  ...   \n",
       "4           대중목욕탕/휴게    F09A02   사우나/증기탕/온천   S96121  ...   \n",
       "...              ...       ...          ...      ...  ...   \n",
       "573675            한식    Q01A01    한식/백반/한정식   I56111  ...   \n",
       "573676  PC/오락/당구/볼링등    N01A01       인터넷PC방   R91222  ...   \n",
       "573677  PC/오락/당구/볼링등    N01A01       인터넷PC방   R91222  ...   \n",
       "573678       이/미용/건강    F01A02       발/네일케어   S96119  ...   \n",
       "573679       이/미용/건강    F01A02       발/네일케어   S96119  ...   \n",
       "\n",
       "                           건물관리번호       건물명                   도로명주소   구우편번호  \\\n",
       "0       1168010600106040000014378      대치상가    서울특별시 강남구 남부순환로 2933  135280   \n",
       "1       1168010100106960042022041       NaN      서울특별시 강남구 선릉로93길 6  135080   \n",
       "2       1154510200101620001017748       NaN      서울특별시 금천구 가산로 34-6  153010   \n",
       "3       2653010400105780000002037  산업용품유통상가        부산광역시 사상구 괘감로 37  617726   \n",
       "4       1171010500102560005010490       NaN        서울특별시 송파구 가락로 71  138846   \n",
       "...                           ...       ...                     ...     ...   \n",
       "573675  1144010200101050067001710       NaN     서울특별시 마포구 마포대로14길 4  121801   \n",
       "573676  1120011500102890015004255  으뜸프린팅(주)     서울특별시 성동구 성수일로8길 37  133834   \n",
       "573677  1168010800101650008000001      한맥빌딩      서울특별시 강남구 강남대로 492  135825   \n",
       "573678  1156011000100230000000001  서울국제금융센터     서울특별시 영등포구 국제금융로 10  150945   \n",
       "573679  1132010700108120000018489   현대타운아파트  서울특별시 도봉구 도봉로114길 22-8  132691   \n",
       "\n",
       "          신우편번호  동정보  층정보  호정보          경도         위도  \n",
       "0        6280.0  NaN    1  NaN  127.061026  37.493922  \n",
       "1        6149.0  NaN    1  NaN  127.047883  37.505675  \n",
       "2        8545.0  NaN    1  NaN  126.899220  37.471711  \n",
       "3       46977.0  NaN    1   26  128.980455  35.159774  \n",
       "4        5690.0  NaN    1  NaN  127.104071  37.500249  \n",
       "...         ...  ...  ...  ...         ...        ...  \n",
       "573675   4211.0  NaN  NaN  NaN  126.955059  37.548618  \n",
       "573676   4794.0  NaN    2  NaN  127.054615  37.545853  \n",
       "573677   6119.0  NaN    2  NaN  127.024102  37.506202  \n",
       "573678   7326.0  NaN    1  NaN  126.924863  37.525172  \n",
       "573679   1455.0  101  NaN  NaN  127.035145  37.647099  \n",
       "\n",
       "[573680 rows x 39 columns]"
      ]
     },
     "execution_count": 8,
     "metadata": {},
     "output_type": "execute_result"
    }
   ],
   "source": [
    "df"
   ]
  },
  {
   "cell_type": "code",
   "execution_count": 9,
   "metadata": {},
   "outputs": [
    {
     "data": {
      "text/plain": [
       "(573680, 39)"
      ]
     },
     "execution_count": 9,
     "metadata": {},
     "output_type": "execute_result"
    }
   ],
   "source": [
    "df.shape"
   ]
  },
  {
   "cell_type": "code",
   "execution_count": 6,
   "metadata": {},
   "outputs": [],
   "source": [
    "pd.options.display.max_columns = 39"
   ]
  },
  {
   "cell_type": "code",
   "execution_count": 7,
   "metadata": {},
   "outputs": [
    {
     "data": {
      "text/html": [
       "<div>\n",
       "<style scoped>\n",
       "    .dataframe tbody tr th:only-of-type {\n",
       "        vertical-align: middle;\n",
       "    }\n",
       "\n",
       "    .dataframe tbody tr th {\n",
       "        vertical-align: top;\n",
       "    }\n",
       "\n",
       "    .dataframe thead th {\n",
       "        text-align: right;\n",
       "    }\n",
       "</style>\n",
       "<table border=\"1\" class=\"dataframe\">\n",
       "  <thead>\n",
       "    <tr style=\"text-align: right;\">\n",
       "      <th></th>\n",
       "      <th>상가업소번호</th>\n",
       "      <th>상호명</th>\n",
       "      <th>지점명</th>\n",
       "      <th>상권업종대분류코드</th>\n",
       "      <th>상권업종대분류명</th>\n",
       "      <th>상권업종중분류코드</th>\n",
       "      <th>상권업종중분류명</th>\n",
       "      <th>상권업종소분류코드</th>\n",
       "      <th>상권업종소분류명</th>\n",
       "      <th>표준산업분류코드</th>\n",
       "      <th>표준산업분류명</th>\n",
       "      <th>시도코드</th>\n",
       "      <th>시도명</th>\n",
       "      <th>시군구코드</th>\n",
       "      <th>시군구명</th>\n",
       "      <th>행정동코드</th>\n",
       "      <th>행정동명</th>\n",
       "      <th>법정동코드</th>\n",
       "      <th>법정동명</th>\n",
       "      <th>지번코드</th>\n",
       "      <th>대지구분코드</th>\n",
       "      <th>대지구분명</th>\n",
       "      <th>지번본번지</th>\n",
       "      <th>지번부번지</th>\n",
       "      <th>지번주소</th>\n",
       "      <th>도로명코드</th>\n",
       "      <th>도로명</th>\n",
       "      <th>건물본번지</th>\n",
       "      <th>건물부번지</th>\n",
       "      <th>건물관리번호</th>\n",
       "      <th>건물명</th>\n",
       "      <th>도로명주소</th>\n",
       "      <th>구우편번호</th>\n",
       "      <th>신우편번호</th>\n",
       "      <th>동정보</th>\n",
       "      <th>층정보</th>\n",
       "      <th>호정보</th>\n",
       "      <th>경도</th>\n",
       "      <th>위도</th>\n",
       "    </tr>\n",
       "  </thead>\n",
       "  <tbody>\n",
       "    <tr>\n",
       "      <th>0</th>\n",
       "      <td>19905471</td>\n",
       "      <td>와라와라호프</td>\n",
       "      <td>NaN</td>\n",
       "      <td>Q</td>\n",
       "      <td>음식</td>\n",
       "      <td>Q09</td>\n",
       "      <td>유흥주점</td>\n",
       "      <td>Q09A01</td>\n",
       "      <td>호프/맥주</td>\n",
       "      <td>I56219</td>\n",
       "      <td>기타 주점업</td>\n",
       "      <td>11</td>\n",
       "      <td>서울특별시</td>\n",
       "      <td>11680</td>\n",
       "      <td>강남구</td>\n",
       "      <td>1168060000</td>\n",
       "      <td>대치1동</td>\n",
       "      <td>1168010600</td>\n",
       "      <td>대치동</td>\n",
       "      <td>1168010600206040000</td>\n",
       "      <td>1</td>\n",
       "      <td>대지</td>\n",
       "      <td>604</td>\n",
       "      <td>NaN</td>\n",
       "      <td>서울특별시 강남구 대치동 604</td>\n",
       "      <td>116802000003</td>\n",
       "      <td>서울특별시 강남구 남부순환로</td>\n",
       "      <td>2933</td>\n",
       "      <td>NaN</td>\n",
       "      <td>1168010600106040000014378</td>\n",
       "      <td>대치상가</td>\n",
       "      <td>서울특별시 강남구 남부순환로 2933</td>\n",
       "      <td>135280</td>\n",
       "      <td>6280.0</td>\n",
       "      <td>NaN</td>\n",
       "      <td>1</td>\n",
       "      <td>NaN</td>\n",
       "      <td>127.061026</td>\n",
       "      <td>37.493922</td>\n",
       "    </tr>\n",
       "    <tr>\n",
       "      <th>1</th>\n",
       "      <td>19911397</td>\n",
       "      <td>커피빈코리아선릉로93길점</td>\n",
       "      <td>코리아선릉로93길점</td>\n",
       "      <td>Q</td>\n",
       "      <td>음식</td>\n",
       "      <td>Q12</td>\n",
       "      <td>커피점/카페</td>\n",
       "      <td>Q12A01</td>\n",
       "      <td>커피전문점/카페/다방</td>\n",
       "      <td>I56220</td>\n",
       "      <td>비알콜 음료점업</td>\n",
       "      <td>11</td>\n",
       "      <td>서울특별시</td>\n",
       "      <td>11680</td>\n",
       "      <td>강남구</td>\n",
       "      <td>1168064000</td>\n",
       "      <td>역삼1동</td>\n",
       "      <td>1168010100</td>\n",
       "      <td>역삼동</td>\n",
       "      <td>1168010100206960042</td>\n",
       "      <td>1</td>\n",
       "      <td>대지</td>\n",
       "      <td>696</td>\n",
       "      <td>42.0</td>\n",
       "      <td>서울특별시 강남구 역삼동 696-42</td>\n",
       "      <td>116804166502</td>\n",
       "      <td>서울특별시 강남구 선릉로93길</td>\n",
       "      <td>6</td>\n",
       "      <td>NaN</td>\n",
       "      <td>1168010100106960042022041</td>\n",
       "      <td>NaN</td>\n",
       "      <td>서울특별시 강남구 선릉로93길 6</td>\n",
       "      <td>135080</td>\n",
       "      <td>6149.0</td>\n",
       "      <td>NaN</td>\n",
       "      <td>1</td>\n",
       "      <td>NaN</td>\n",
       "      <td>127.047883</td>\n",
       "      <td>37.505675</td>\n",
       "    </tr>\n",
       "    <tr>\n",
       "      <th>2</th>\n",
       "      <td>19911801</td>\n",
       "      <td>프로포즈</td>\n",
       "      <td>NaN</td>\n",
       "      <td>Q</td>\n",
       "      <td>음식</td>\n",
       "      <td>Q09</td>\n",
       "      <td>유흥주점</td>\n",
       "      <td>Q09A01</td>\n",
       "      <td>호프/맥주</td>\n",
       "      <td>I56219</td>\n",
       "      <td>기타 주점업</td>\n",
       "      <td>11</td>\n",
       "      <td>서울특별시</td>\n",
       "      <td>11545</td>\n",
       "      <td>금천구</td>\n",
       "      <td>1154563000</td>\n",
       "      <td>독산3동</td>\n",
       "      <td>1154510200</td>\n",
       "      <td>독산동</td>\n",
       "      <td>1154510200201620001</td>\n",
       "      <td>1</td>\n",
       "      <td>대지</td>\n",
       "      <td>162</td>\n",
       "      <td>1.0</td>\n",
       "      <td>서울특별시 금천구 독산동 162-1</td>\n",
       "      <td>115453117003</td>\n",
       "      <td>서울특별시 금천구 가산로</td>\n",
       "      <td>34</td>\n",
       "      <td>6.0</td>\n",
       "      <td>1154510200101620001017748</td>\n",
       "      <td>NaN</td>\n",
       "      <td>서울특별시 금천구 가산로 34-6</td>\n",
       "      <td>153010</td>\n",
       "      <td>8545.0</td>\n",
       "      <td>NaN</td>\n",
       "      <td>1</td>\n",
       "      <td>NaN</td>\n",
       "      <td>126.899220</td>\n",
       "      <td>37.471711</td>\n",
       "    </tr>\n",
       "    <tr>\n",
       "      <th>3</th>\n",
       "      <td>19912201</td>\n",
       "      <td>싱싱커피&amp;토스트</td>\n",
       "      <td>NaN</td>\n",
       "      <td>Q</td>\n",
       "      <td>음식</td>\n",
       "      <td>Q07</td>\n",
       "      <td>패스트푸드</td>\n",
       "      <td>Q07A10</td>\n",
       "      <td>토스트전문</td>\n",
       "      <td>I56192</td>\n",
       "      <td>피자, 햄버거, 샌드위치 및 유사 음식점업</td>\n",
       "      <td>26</td>\n",
       "      <td>부산광역시</td>\n",
       "      <td>26530</td>\n",
       "      <td>사상구</td>\n",
       "      <td>2653062000</td>\n",
       "      <td>괘법동</td>\n",
       "      <td>2653010400</td>\n",
       "      <td>괘법동</td>\n",
       "      <td>2653010400205780000</td>\n",
       "      <td>1</td>\n",
       "      <td>대지</td>\n",
       "      <td>578</td>\n",
       "      <td>NaN</td>\n",
       "      <td>부산광역시 사상구 괘법동 578</td>\n",
       "      <td>265303139004</td>\n",
       "      <td>부산광역시 사상구 괘감로</td>\n",
       "      <td>37</td>\n",
       "      <td>NaN</td>\n",
       "      <td>2653010400105780000002037</td>\n",
       "      <td>산업용품유통상가</td>\n",
       "      <td>부산광역시 사상구 괘감로 37</td>\n",
       "      <td>617726</td>\n",
       "      <td>46977.0</td>\n",
       "      <td>NaN</td>\n",
       "      <td>1</td>\n",
       "      <td>26</td>\n",
       "      <td>128.980455</td>\n",
       "      <td>35.159774</td>\n",
       "    </tr>\n",
       "    <tr>\n",
       "      <th>4</th>\n",
       "      <td>19932756</td>\n",
       "      <td>가락사우나내스낵</td>\n",
       "      <td>NaN</td>\n",
       "      <td>F</td>\n",
       "      <td>생활서비스</td>\n",
       "      <td>F09</td>\n",
       "      <td>대중목욕탕/휴게</td>\n",
       "      <td>F09A02</td>\n",
       "      <td>사우나/증기탕/온천</td>\n",
       "      <td>S96121</td>\n",
       "      <td>욕탕업</td>\n",
       "      <td>11</td>\n",
       "      <td>서울특별시</td>\n",
       "      <td>11710</td>\n",
       "      <td>송파구</td>\n",
       "      <td>1171060000</td>\n",
       "      <td>석촌동</td>\n",
       "      <td>1171010500</td>\n",
       "      <td>석촌동</td>\n",
       "      <td>1171010500202560000</td>\n",
       "      <td>1</td>\n",
       "      <td>대지</td>\n",
       "      <td>256</td>\n",
       "      <td>NaN</td>\n",
       "      <td>서울특별시 송파구 석촌동 256</td>\n",
       "      <td>117103123001</td>\n",
       "      <td>서울특별시 송파구 가락로</td>\n",
       "      <td>71</td>\n",
       "      <td>NaN</td>\n",
       "      <td>1171010500102560005010490</td>\n",
       "      <td>NaN</td>\n",
       "      <td>서울특별시 송파구 가락로 71</td>\n",
       "      <td>138846</td>\n",
       "      <td>5690.0</td>\n",
       "      <td>NaN</td>\n",
       "      <td>1</td>\n",
       "      <td>NaN</td>\n",
       "      <td>127.104071</td>\n",
       "      <td>37.500249</td>\n",
       "    </tr>\n",
       "  </tbody>\n",
       "</table>\n",
       "</div>"
      ],
      "text/plain": [
       "     상가업소번호            상호명         지점명 상권업종대분류코드 상권업종대분류명 상권업종중분류코드  상권업종중분류명  \\\n",
       "0  19905471         와라와라호프         NaN         Q       음식       Q09      유흥주점   \n",
       "1  19911397  커피빈코리아선릉로93길점  코리아선릉로93길점         Q       음식       Q12    커피점/카페   \n",
       "2  19911801           프로포즈         NaN         Q       음식       Q09      유흥주점   \n",
       "3  19912201       싱싱커피&토스트         NaN         Q       음식       Q07     패스트푸드   \n",
       "4  19932756       가락사우나내스낵         NaN         F    생활서비스       F09  대중목욕탕/휴게   \n",
       "\n",
       "  상권업종소분류코드     상권업종소분류명 표준산업분류코드                  표준산업분류명  시도코드    시도명  \\\n",
       "0    Q09A01        호프/맥주   I56219                   기타 주점업    11  서울특별시   \n",
       "1    Q12A01  커피전문점/카페/다방   I56220                 비알콜 음료점업    11  서울특별시   \n",
       "2    Q09A01        호프/맥주   I56219                   기타 주점업    11  서울특별시   \n",
       "3    Q07A10        토스트전문   I56192  피자, 햄버거, 샌드위치 및 유사 음식점업    26  부산광역시   \n",
       "4    F09A02   사우나/증기탕/온천   S96121                      욕탕업    11  서울특별시   \n",
       "\n",
       "   시군구코드 시군구명       행정동코드  행정동명       법정동코드 법정동명                 지번코드  대지구분코드  \\\n",
       "0  11680  강남구  1168060000  대치1동  1168010600  대치동  1168010600206040000       1   \n",
       "1  11680  강남구  1168064000  역삼1동  1168010100  역삼동  1168010100206960042       1   \n",
       "2  11545  금천구  1154563000  독산3동  1154510200  독산동  1154510200201620001       1   \n",
       "3  26530  사상구  2653062000   괘법동  2653010400  괘법동  2653010400205780000       1   \n",
       "4  11710  송파구  1171060000   석촌동  1171010500  석촌동  1171010500202560000       1   \n",
       "\n",
       "  대지구분명  지번본번지  지번부번지                  지번주소         도로명코드               도로명  \\\n",
       "0    대지    604    NaN     서울특별시 강남구 대치동 604  116802000003   서울특별시 강남구 남부순환로   \n",
       "1    대지    696   42.0  서울특별시 강남구 역삼동 696-42  116804166502  서울특별시 강남구 선릉로93길   \n",
       "2    대지    162    1.0   서울특별시 금천구 독산동 162-1  115453117003     서울특별시 금천구 가산로   \n",
       "3    대지    578    NaN     부산광역시 사상구 괘법동 578  265303139004     부산광역시 사상구 괘감로   \n",
       "4    대지    256    NaN     서울특별시 송파구 석촌동 256  117103123001     서울특별시 송파구 가락로   \n",
       "\n",
       "   건물본번지  건물부번지                     건물관리번호       건물명                 도로명주소  \\\n",
       "0   2933    NaN  1168010600106040000014378      대치상가  서울특별시 강남구 남부순환로 2933   \n",
       "1      6    NaN  1168010100106960042022041       NaN    서울특별시 강남구 선릉로93길 6   \n",
       "2     34    6.0  1154510200101620001017748       NaN    서울특별시 금천구 가산로 34-6   \n",
       "3     37    NaN  2653010400105780000002037  산업용품유통상가      부산광역시 사상구 괘감로 37   \n",
       "4     71    NaN  1171010500102560005010490       NaN      서울특별시 송파구 가락로 71   \n",
       "\n",
       "    구우편번호    신우편번호  동정보 층정보  호정보          경도         위도  \n",
       "0  135280   6280.0  NaN   1  NaN  127.061026  37.493922  \n",
       "1  135080   6149.0  NaN   1  NaN  127.047883  37.505675  \n",
       "2  153010   8545.0  NaN   1  NaN  126.899220  37.471711  \n",
       "3  617726  46977.0  NaN   1   26  128.980455  35.159774  \n",
       "4  138846   5690.0  NaN   1  NaN  127.104071  37.500249  "
      ]
     },
     "execution_count": 7,
     "metadata": {},
     "output_type": "execute_result"
    }
   ],
   "source": [
    "df.head()"
   ]
  },
  {
   "cell_type": "code",
   "execution_count": 8,
   "metadata": {},
   "outputs": [
    {
     "data": {
      "text/plain": [
       "RangeIndex(start=0, stop=573680, step=1)"
      ]
     },
     "execution_count": 8,
     "metadata": {},
     "output_type": "execute_result"
    }
   ],
   "source": [
    "df.index"
   ]
  },
  {
   "cell_type": "code",
   "execution_count": 10,
   "metadata": {},
   "outputs": [
    {
     "data": {
      "text/plain": [
       "Index(['상가업소번호', '상호명', '지점명', '상권업종대분류코드', '상권업종대분류명', '상권업종중분류코드',\n",
       "       '상권업종중분류명', '상권업종소분류코드', '상권업종소분류명', '표준산업분류코드', '표준산업분류명', '시도코드',\n",
       "       '시도명', '시군구코드', '시군구명', '행정동코드', '행정동명', '법정동코드', '법정동명', '지번코드',\n",
       "       '대지구분코드', '대지구분명', '지번본번지', '지번부번지', '지번주소', '도로명코드', '도로명', '건물본번지',\n",
       "       '건물부번지', '건물관리번호', '건물명', '도로명주소', '구우편번호', '신우편번호', '동정보', '층정보',\n",
       "       '호정보', '경도', '위도'],\n",
       "      dtype='object')"
      ]
     },
     "execution_count": 10,
     "metadata": {},
     "output_type": "execute_result"
    }
   ],
   "source": [
    "df.columns"
   ]
  },
  {
   "cell_type": "code",
   "execution_count": 10,
   "metadata": {},
   "outputs": [
    {
     "name": "stdout",
     "output_type": "stream",
     "text": [
      "<class 'pandas.core.frame.DataFrame'>\n",
      "RangeIndex: 573680 entries, 0 to 573679\n",
      "Data columns (total 39 columns):\n",
      " #   Column     Non-Null Count   Dtype  \n",
      "---  ------     --------------   -----  \n",
      " 0   상가업소번호     573680 non-null  int64  \n",
      " 1   상호명        573679 non-null  object \n",
      " 2   지점명        76674 non-null   object \n",
      " 3   상권업종대분류코드  573680 non-null  object \n",
      " 4   상권업종대분류명   573680 non-null  object \n",
      " 5   상권업종중분류코드  573680 non-null  object \n",
      " 6   상권업종중분류명   573680 non-null  object \n",
      " 7   상권업종소분류코드  573680 non-null  object \n",
      " 8   상권업종소분류명   573680 non-null  object \n",
      " 9   표준산업분류코드   539290 non-null  object \n",
      " 10  표준산업분류명    539290 non-null  object \n",
      " 11  시도코드       573680 non-null  int64  \n",
      " 12  시도명        573680 non-null  object \n",
      " 13  시군구코드      573680 non-null  int64  \n",
      " 14  시군구명       573680 non-null  object \n",
      " 15  행정동코드      573680 non-null  int64  \n",
      " 16  행정동명       573680 non-null  object \n",
      " 17  법정동코드      573680 non-null  int64  \n",
      " 18  법정동명       573680 non-null  object \n",
      " 19  지번코드       573680 non-null  int64  \n",
      " 20  대지구분코드     573680 non-null  int64  \n",
      " 21  대지구분명      573680 non-null  object \n",
      " 22  지번본번지      573680 non-null  int64  \n",
      " 23  지번부번지      474924 non-null  float64\n",
      " 24  지번주소       573680 non-null  object \n",
      " 25  도로명코드      573680 non-null  int64  \n",
      " 26  도로명        573680 non-null  object \n",
      " 27  건물본번지      573680 non-null  int64  \n",
      " 28  건물부번지      71988 non-null   float64\n",
      " 29  건물관리번호     573680 non-null  object \n",
      " 30  건물명        265608 non-null  object \n",
      " 31  도로명주소      573680 non-null  object \n",
      " 32  구우편번호      573680 non-null  int64  \n",
      " 33  신우편번호      573671 non-null  float64\n",
      " 34  동정보        50856 non-null   object \n",
      " 35  층정보        347127 non-null  object \n",
      " 36  호정보        85266 non-null   object \n",
      " 37  경도         573680 non-null  float64\n",
      " 38  위도         573680 non-null  float64\n",
      "dtypes: float64(5), int64(11), object(23)\n",
      "memory usage: 170.7+ MB\n"
     ]
    }
   ],
   "source": [
    "df.info()"
   ]
  },
  {
   "cell_type": "code",
   "execution_count": 11,
   "metadata": {},
   "outputs": [
    {
     "data": {
      "text/plain": [
       "상가업소번호         int64\n",
       "상호명           object\n",
       "지점명           object\n",
       "상권업종대분류코드     object\n",
       "상권업종대분류명      object\n",
       "상권업종중분류코드     object\n",
       "상권업종중분류명      object\n",
       "상권업종소분류코드     object\n",
       "상권업종소분류명      object\n",
       "표준산업분류코드      object\n",
       "표준산업분류명       object\n",
       "시도코드           int64\n",
       "시도명           object\n",
       "시군구코드          int64\n",
       "시군구명          object\n",
       "행정동코드          int64\n",
       "행정동명          object\n",
       "법정동코드          int64\n",
       "법정동명          object\n",
       "지번코드           int64\n",
       "대지구분코드         int64\n",
       "대지구분명         object\n",
       "지번본번지          int64\n",
       "지번부번지        float64\n",
       "지번주소          object\n",
       "도로명코드          int64\n",
       "도로명           object\n",
       "건물본번지          int64\n",
       "건물부번지        float64\n",
       "건물관리번호        object\n",
       "건물명           object\n",
       "도로명주소         object\n",
       "구우편번호          int64\n",
       "신우편번호        float64\n",
       "동정보           object\n",
       "층정보           object\n",
       "호정보           object\n",
       "경도           float64\n",
       "위도           float64\n",
       "dtype: object"
      ]
     },
     "execution_count": 11,
     "metadata": {},
     "output_type": "execute_result"
    }
   ],
   "source": [
    "df.dtypes"
   ]
  },
  {
   "cell_type": "code",
   "execution_count": 12,
   "metadata": {},
   "outputs": [],
   "source": [
    "n = df.isnull().sum()"
   ]
  },
  {
   "cell_type": "raw",
   "metadata": {},
   "source": [
    "True == 1"
   ]
  },
  {
   "cell_type": "code",
   "execution_count": 13,
   "metadata": {},
   "outputs": [
    {
     "data": {
      "text/plain": [
       "<matplotlib.axes._subplots.AxesSubplot at 0x1cf30d7e348>"
      ]
     },
     "execution_count": 13,
     "metadata": {},
     "output_type": "execute_result"
    },
    {
     "data": {
      "image/png": "[encoded data removed]",
      "text/plain": [
       "<Figure size 432x288 with 1 Axes>"
      ]
     },
     "metadata": {
      "needs_background": "light"
     },
     "output_type": "display_data"
    }
   ],
   "source": [
    "n.plot.bar()"
   ]
  },
  {
   "cell_type": "code",
   "execution_count": 14,
   "metadata": {},
   "outputs": [
    {
     "data": {
      "text/plain": [
       "<matplotlib.axes._subplots.AxesSubplot at 0x1cf323bbc48>"
      ]
     },
     "execution_count": 14,
     "metadata": {},
     "output_type": "execute_result"
    },
    {
     "data": {
      "image/png": "[encoded data removed]",
      "text/plain": [
       "<Figure size 504x576 with 1 Axes>"
      ]
     },
     "metadata": {
      "needs_background": "light"
     },
     "output_type": "display_data"
    }
   ],
   "source": [
    "n.plot.barh(figsize=(7,8))"
   ]
  },
  {
   "cell_type": "code",
   "execution_count": 15,
   "metadata": {},
   "outputs": [],
   "source": [
    "import missingno as msno"
   ]
  },
  {
   "cell_type": "code",
   "execution_count": 16,
   "metadata": {},
   "outputs": [
    {
     "data": {
      "text/plain": [
       "<matplotlib.axes._subplots.AxesSubplot at 0x1cf32555a48>"
      ]
     },
     "execution_count": 16,
     "metadata": {},
     "output_type": "execute_result"
    },
    {
     "data": {
      "image/png": "[encoded data removed]",
      "text/plain": [
       "<Figure size 1800x720 with 2 Axes>"
      ]
     },
     "metadata": {
      "needs_background": "light"
     },
     "output_type": "display_data"
    }
   ],
   "source": [
    "msno.matrix(df)"
   ]
  },
  {
   "cell_type": "code",
   "execution_count": 23,
   "metadata": {},
   "outputs": [
    {
     "data": {
      "text/plain": [
       "<matplotlib.axes._subplots.AxesSubplot at 0x1e3089c4788>"
      ]
     },
     "execution_count": 23,
     "metadata": {},
     "output_type": "execute_result"
    },
    {
     "data": {
      "image/png": "[encoded data removed]",
      "text/plain": [
       "<Figure size 1440x864 with 2 Axes>"
      ]
     },
     "metadata": {
      "needs_background": "light"
     },
     "output_type": "display_data"
    }
   ],
   "source": [
    "msno.heatmap(df)"
   ]
  },
  {
   "cell_type": "code",
   "execution_count": 17,
   "metadata": {},
   "outputs": [
    {
     "data": {
      "text/plain": [
       "<matplotlib.axes._subplots.AxesSubplot at 0x1cf4e9a66c8>"
      ]
     },
     "execution_count": 17,
     "metadata": {},
     "output_type": "execute_result"
    },
    {
     "data": {
      "image/png": "[encoded data removed]",
      "text/plain": [
       "<Figure size 1800x720 with 1 Axes>"
      ]
     },
     "metadata": {
      "needs_background": "light"
     },
     "output_type": "display_data"
    }
   ],
   "source": [
    "msno.dendrogram(df)"
   ]
  },
  {
   "cell_type": "code",
   "execution_count": 18,
   "metadata": {},
   "outputs": [],
   "source": [
    "not_use = n.sort_values(ascending=False).head(9)"
   ]
  },
  {
   "cell_type": "code",
   "execution_count": 19,
   "metadata": {},
   "outputs": [],
   "source": [
    "not_use_col = not_use.index"
   ]
  },
  {
   "cell_type": "code",
   "execution_count": 33,
   "metadata": {},
   "outputs": [
    {
     "name": "stdout",
     "output_type": "stream",
     "text": [
      "(573680, 30)\n"
     ]
    }
   ],
   "source": [
    "print(df.shape)"
   ]
  },
  {
   "cell_type": "code",
   "execution_count": 20,
   "metadata": {},
   "outputs": [],
   "source": [
    "df = df.drop(not_use_col, axis = 1)"
   ]
  },
  {
   "cell_type": "code",
   "execution_count": 21,
   "metadata": {},
   "outputs": [
    {
     "name": "stdout",
     "output_type": "stream",
     "text": [
      "<class 'pandas.core.frame.DataFrame'>\n",
      "RangeIndex: 573680 entries, 0 to 573679\n",
      "Data columns (total 30 columns):\n",
      " #   Column     Non-Null Count   Dtype  \n",
      "---  ------     --------------   -----  \n",
      " 0   상가업소번호     573680 non-null  int64  \n",
      " 1   상호명        573679 non-null  object \n",
      " 2   상권업종대분류코드  573680 non-null  object \n",
      " 3   상권업종대분류명   573680 non-null  object \n",
      " 4   상권업종중분류코드  573680 non-null  object \n",
      " 5   상권업종중분류명   573680 non-null  object \n",
      " 6   상권업종소분류코드  573680 non-null  object \n",
      " 7   상권업종소분류명   573680 non-null  object \n",
      " 8   시도코드       573680 non-null  int64  \n",
      " 9   시도명        573680 non-null  object \n",
      " 10  시군구코드      573680 non-null  int64  \n",
      " 11  시군구명       573680 non-null  object \n",
      " 12  행정동코드      573680 non-null  int64  \n",
      " 13  행정동명       573680 non-null  object \n",
      " 14  법정동코드      573680 non-null  int64  \n",
      " 15  법정동명       573680 non-null  object \n",
      " 16  지번코드       573680 non-null  int64  \n",
      " 17  대지구분코드     573680 non-null  int64  \n",
      " 18  대지구분명      573680 non-null  object \n",
      " 19  지번본번지      573680 non-null  int64  \n",
      " 20  지번주소       573680 non-null  object \n",
      " 21  도로명코드      573680 non-null  int64  \n",
      " 22  도로명        573680 non-null  object \n",
      " 23  건물본번지      573680 non-null  int64  \n",
      " 24  건물관리번호     573680 non-null  object \n",
      " 25  도로명주소      573680 non-null  object \n",
      " 26  구우편번호      573680 non-null  int64  \n",
      " 27  신우편번호      573671 non-null  float64\n",
      " 28  경도         573680 non-null  float64\n",
      " 29  위도         573680 non-null  float64\n",
      "dtypes: float64(3), int64(11), object(16)\n",
      "memory usage: 131.3+ MB\n"
     ]
    }
   ],
   "source": [
    "df.info()"
   ]
  },
  {
   "cell_type": "code",
   "execution_count": 22,
   "metadata": {},
   "outputs": [
    {
     "data": {
      "text/plain": [
       "Index(['상가업소번호', '상호명', '상권업종대분류코드', '상권업종대분류명', '상권업종중분류코드', '상권업종중분류명',\n",
       "       '상권업종소분류코드', '상권업종소분류명', '시도코드', '시도명', '시군구코드', '시군구명', '행정동코드',\n",
       "       '행정동명', '법정동코드', '법정동명', '지번코드', '대지구분코드', '대지구분명', '지번본번지', '지번주소',\n",
       "       '도로명코드', '도로명', '건물본번지', '건물관리번호', '도로명주소', '구우편번호', '신우편번호', '경도',\n",
       "       '위도'],\n",
       "      dtype='object')"
      ]
     },
     "execution_count": 22,
     "metadata": {},
     "output_type": "execute_result"
    }
   ],
   "source": [
    "cols = df.columns\n",
    "cols"
   ]
  },
  {
   "cell_type": "code",
   "execution_count": 23,
   "metadata": {},
   "outputs": [
    {
     "data": {
      "text/plain": [
       "Index(['상가업소번호', '상권업종대분류코드', '상권업종중분류코드', '상권업종소분류코드', '시도코드', '시군구코드',\n",
       "       '행정동코드', '법정동코드', '지번코드', '대지구분코드', '도로명코드', '건물관리번호', '구우편번호',\n",
       "       '신우편번호'],\n",
       "      dtype='object')"
      ]
     },
     "execution_count": 23,
     "metadata": {},
     "output_type": "execute_result"
    }
   ],
   "source": [
    "cols_code = cols[cols.str.contains(\"코드|번호\")]\n",
    "cols_code"
   ]
  },
  {
   "cell_type": "code",
   "execution_count": 24,
   "metadata": {},
   "outputs": [
    {
     "name": "stdout",
     "output_type": "stream",
     "text": [
      "(573680, 30)\n",
      "(573680, 16)\n"
     ]
    }
   ],
   "source": [
    "print(df.shape)\n",
    "df = df.drop(cols_code, axis=1)\n",
    "print(df.shape)"
   ]
  },
  {
   "cell_type": "code",
   "execution_count": 25,
   "metadata": {},
   "outputs": [
    {
     "name": "stdout",
     "output_type": "stream",
     "text": [
      "<class 'pandas.core.frame.DataFrame'>\n",
      "RangeIndex: 573680 entries, 0 to 573679\n",
      "Data columns (total 16 columns):\n",
      " #   Column    Non-Null Count   Dtype  \n",
      "---  ------    --------------   -----  \n",
      " 0   상호명       573679 non-null  object \n",
      " 1   상권업종대분류명  573680 non-null  object \n",
      " 2   상권업종중분류명  573680 non-null  object \n",
      " 3   상권업종소분류명  573680 non-null  object \n",
      " 4   시도명       573680 non-null  object \n",
      " 5   시군구명      573680 non-null  object \n",
      " 6   행정동명      573680 non-null  object \n",
      " 7   법정동명      573680 non-null  object \n",
      " 8   대지구분명     573680 non-null  object \n",
      " 9   지번본번지     573680 non-null  int64  \n",
      " 10  지번주소      573680 non-null  object \n",
      " 11  도로명       573680 non-null  object \n",
      " 12  건물본번지     573680 non-null  int64  \n",
      " 13  도로명주소     573680 non-null  object \n",
      " 14  경도        573680 non-null  float64\n",
      " 15  위도        573680 non-null  float64\n",
      "dtypes: float64(2), int64(2), object(12)\n",
      "memory usage: 70.0+ MB\n"
     ]
    }
   ],
   "source": [
    "df.info()"
   ]
  },
  {
   "cell_type": "code",
   "execution_count": 26,
   "metadata": {},
   "outputs": [
    {
     "data": {
      "text/html": [
       "<div>\n",
       "<style scoped>\n",
       "    .dataframe tbody tr th:only-of-type {\n",
       "        vertical-align: middle;\n",
       "    }\n",
       "\n",
       "    .dataframe tbody tr th {\n",
       "        vertical-align: top;\n",
       "    }\n",
       "\n",
       "    .dataframe thead th {\n",
       "        text-align: right;\n",
       "    }\n",
       "</style>\n",
       "<table border=\"1\" class=\"dataframe\">\n",
       "  <thead>\n",
       "    <tr style=\"text-align: right;\">\n",
       "      <th></th>\n",
       "      <th>상호명</th>\n",
       "      <th>도로명주소</th>\n",
       "    </tr>\n",
       "  </thead>\n",
       "  <tbody>\n",
       "    <tr>\n",
       "      <th>0</th>\n",
       "      <td>와라와라호프</td>\n",
       "      <td>서울특별시 강남구 남부순환로 2933</td>\n",
       "    </tr>\n",
       "    <tr>\n",
       "      <th>1</th>\n",
       "      <td>커피빈코리아선릉로93길점</td>\n",
       "      <td>서울특별시 강남구 선릉로93길 6</td>\n",
       "    </tr>\n",
       "    <tr>\n",
       "      <th>2</th>\n",
       "      <td>프로포즈</td>\n",
       "      <td>서울특별시 금천구 가산로 34-6</td>\n",
       "    </tr>\n",
       "    <tr>\n",
       "      <th>3</th>\n",
       "      <td>싱싱커피&amp;토스트</td>\n",
       "      <td>부산광역시 사상구 괘감로 37</td>\n",
       "    </tr>\n",
       "    <tr>\n",
       "      <th>4</th>\n",
       "      <td>가락사우나내스낵</td>\n",
       "      <td>서울특별시 송파구 가락로 71</td>\n",
       "    </tr>\n",
       "    <tr>\n",
       "      <th>...</th>\n",
       "      <td>...</td>\n",
       "      <td>...</td>\n",
       "    </tr>\n",
       "    <tr>\n",
       "      <th>573675</th>\n",
       "      <td>비파티세리공덕</td>\n",
       "      <td>서울특별시 마포구 마포대로14길 4</td>\n",
       "    </tr>\n",
       "    <tr>\n",
       "      <th>573676</th>\n",
       "      <td>앤탑PC방</td>\n",
       "      <td>서울특별시 성동구 성수일로8길 37</td>\n",
       "    </tr>\n",
       "    <tr>\n",
       "      <th>573677</th>\n",
       "      <td>오즈아레나PC방</td>\n",
       "      <td>서울특별시 강남구 강남대로 492</td>\n",
       "    </tr>\n",
       "    <tr>\n",
       "      <th>573678</th>\n",
       "      <td>파인트리네일</td>\n",
       "      <td>서울특별시 영등포구 국제금융로 10</td>\n",
       "    </tr>\n",
       "    <tr>\n",
       "      <th>573679</th>\n",
       "      <td>마이리틀네일</td>\n",
       "      <td>서울특별시 도봉구 도봉로114길 22-8</td>\n",
       "    </tr>\n",
       "  </tbody>\n",
       "</table>\n",
       "<p>573680 rows × 2 columns</p>\n",
       "</div>"
      ],
      "text/plain": [
       "                  상호명                   도로명주소\n",
       "0              와라와라호프    서울특별시 강남구 남부순환로 2933\n",
       "1       커피빈코리아선릉로93길점      서울특별시 강남구 선릉로93길 6\n",
       "2                프로포즈      서울특별시 금천구 가산로 34-6\n",
       "3            싱싱커피&토스트        부산광역시 사상구 괘감로 37\n",
       "4            가락사우나내스낵        서울특별시 송파구 가락로 71\n",
       "...               ...                     ...\n",
       "573675        비파티세리공덕     서울특별시 마포구 마포대로14길 4\n",
       "573676          앤탑PC방     서울특별시 성동구 성수일로8길 37\n",
       "573677       오즈아레나PC방      서울특별시 강남구 강남대로 492\n",
       "573678         파인트리네일     서울특별시 영등포구 국제금융로 10\n",
       "573679         마이리틀네일  서울특별시 도봉구 도봉로114길 22-8\n",
       "\n",
       "[573680 rows x 2 columns]"
      ]
     },
     "execution_count": 26,
     "metadata": {},
     "output_type": "execute_result"
    }
   ],
   "source": [
    "df[[\"상호명\",\"도로명주소\"]]"
   ]
  },
  {
   "cell_type": "code",
   "execution_count": 27,
   "metadata": {},
   "outputs": [
    {
     "data": {
      "text/plain": [
       "0           와라와라호프\n",
       "1    커피빈코리아선릉로93길점\n",
       "2             프로포즈\n",
       "3         싱싱커피&토스트\n",
       "4         가락사우나내스낵\n",
       "Name: 상호명, dtype: object"
      ]
     },
     "execution_count": 27,
     "metadata": {},
     "output_type": "execute_result"
    }
   ],
   "source": [
    "df[\"상호명\"].head()"
   ]
  },
  {
   "cell_type": "code",
   "execution_count": 28,
   "metadata": {},
   "outputs": [
    {
     "data": {
      "text/plain": [
       "상호명                       와라와라호프\n",
       "상권업종대분류명                      음식\n",
       "상권업종중분류명                    유흥주점\n",
       "상권업종소분류명                   호프/맥주\n",
       "시도명                        서울특별시\n",
       "시군구명                         강남구\n",
       "행정동명                        대치1동\n",
       "법정동명                         대치동\n",
       "대지구분명                         대지\n",
       "지번본번지                        604\n",
       "지번주소           서울특별시 강남구 대치동 604\n",
       "도로명              서울특별시 강남구 남부순환로\n",
       "건물본번지                       2933\n",
       "도로명주소       서울특별시 강남구 남부순환로 2933\n",
       "경도                       127.061\n",
       "위도                       37.4939\n",
       "Name: 0, dtype: object"
      ]
     },
     "execution_count": 28,
     "metadata": {},
     "output_type": "execute_result"
    }
   ],
   "source": [
    "df.loc[0]"
   ]
  },
  {
   "cell_type": "code",
   "execution_count": 29,
   "metadata": {},
   "outputs": [
    {
     "data": {
      "text/html": [
       "<div>\n",
       "<style scoped>\n",
       "    .dataframe tbody tr th:only-of-type {\n",
       "        vertical-align: middle;\n",
       "    }\n",
       "\n",
       "    .dataframe tbody tr th {\n",
       "        vertical-align: top;\n",
       "    }\n",
       "\n",
       "    .dataframe thead th {\n",
       "        text-align: right;\n",
       "    }\n",
       "</style>\n",
       "<table border=\"1\" class=\"dataframe\">\n",
       "  <thead>\n",
       "    <tr style=\"text-align: right;\">\n",
       "      <th></th>\n",
       "      <th>상호명</th>\n",
       "      <th>상권업종대분류명</th>\n",
       "      <th>상권업종중분류명</th>\n",
       "      <th>상권업종소분류명</th>\n",
       "      <th>시도명</th>\n",
       "      <th>시군구명</th>\n",
       "      <th>행정동명</th>\n",
       "      <th>법정동명</th>\n",
       "      <th>대지구분명</th>\n",
       "      <th>지번본번지</th>\n",
       "      <th>지번주소</th>\n",
       "      <th>도로명</th>\n",
       "      <th>건물본번지</th>\n",
       "      <th>도로명주소</th>\n",
       "      <th>경도</th>\n",
       "      <th>위도</th>\n",
       "    </tr>\n",
       "  </thead>\n",
       "  <tbody>\n",
       "    <tr>\n",
       "      <th>0</th>\n",
       "      <td>와라와라호프</td>\n",
       "      <td>음식</td>\n",
       "      <td>유흥주점</td>\n",
       "      <td>호프/맥주</td>\n",
       "      <td>서울특별시</td>\n",
       "      <td>강남구</td>\n",
       "      <td>대치1동</td>\n",
       "      <td>대치동</td>\n",
       "      <td>대지</td>\n",
       "      <td>604</td>\n",
       "      <td>서울특별시 강남구 대치동 604</td>\n",
       "      <td>서울특별시 강남구 남부순환로</td>\n",
       "      <td>2933</td>\n",
       "      <td>서울특별시 강남구 남부순환로 2933</td>\n",
       "      <td>127.061026</td>\n",
       "      <td>37.493922</td>\n",
       "    </tr>\n",
       "    <tr>\n",
       "      <th>1</th>\n",
       "      <td>커피빈코리아선릉로93길점</td>\n",
       "      <td>음식</td>\n",
       "      <td>커피점/카페</td>\n",
       "      <td>커피전문점/카페/다방</td>\n",
       "      <td>서울특별시</td>\n",
       "      <td>강남구</td>\n",
       "      <td>역삼1동</td>\n",
       "      <td>역삼동</td>\n",
       "      <td>대지</td>\n",
       "      <td>696</td>\n",
       "      <td>서울특별시 강남구 역삼동 696-42</td>\n",
       "      <td>서울특별시 강남구 선릉로93길</td>\n",
       "      <td>6</td>\n",
       "      <td>서울특별시 강남구 선릉로93길 6</td>\n",
       "      <td>127.047883</td>\n",
       "      <td>37.505675</td>\n",
       "    </tr>\n",
       "    <tr>\n",
       "      <th>2</th>\n",
       "      <td>프로포즈</td>\n",
       "      <td>음식</td>\n",
       "      <td>유흥주점</td>\n",
       "      <td>호프/맥주</td>\n",
       "      <td>서울특별시</td>\n",
       "      <td>금천구</td>\n",
       "      <td>독산3동</td>\n",
       "      <td>독산동</td>\n",
       "      <td>대지</td>\n",
       "      <td>162</td>\n",
       "      <td>서울특별시 금천구 독산동 162-1</td>\n",
       "      <td>서울특별시 금천구 가산로</td>\n",
       "      <td>34</td>\n",
       "      <td>서울특별시 금천구 가산로 34-6</td>\n",
       "      <td>126.899220</td>\n",
       "      <td>37.471711</td>\n",
       "    </tr>\n",
       "  </tbody>\n",
       "</table>\n",
       "</div>"
      ],
      "text/plain": [
       "             상호명 상권업종대분류명 상권업종중분류명     상권업종소분류명    시도명 시군구명  행정동명 법정동명 대지구분명  \\\n",
       "0         와라와라호프       음식     유흥주점        호프/맥주  서울특별시  강남구  대치1동  대치동    대지   \n",
       "1  커피빈코리아선릉로93길점       음식   커피점/카페  커피전문점/카페/다방  서울특별시  강남구  역삼1동  역삼동    대지   \n",
       "2           프로포즈       음식     유흥주점        호프/맥주  서울특별시  금천구  독산3동  독산동    대지   \n",
       "\n",
       "   지번본번지                  지번주소               도로명  건물본번지                 도로명주소  \\\n",
       "0    604     서울특별시 강남구 대치동 604   서울특별시 강남구 남부순환로   2933  서울특별시 강남구 남부순환로 2933   \n",
       "1    696  서울특별시 강남구 역삼동 696-42  서울특별시 강남구 선릉로93길      6    서울특별시 강남구 선릉로93길 6   \n",
       "2    162   서울특별시 금천구 독산동 162-1     서울특별시 금천구 가산로     34    서울특별시 금천구 가산로 34-6   \n",
       "\n",
       "           경도         위도  \n",
       "0  127.061026  37.493922  \n",
       "1  127.047883  37.505675  \n",
       "2  126.899220  37.471711  "
      ]
     },
     "execution_count": 29,
     "metadata": {},
     "output_type": "execute_result"
    }
   ],
   "source": [
    "df.loc[[0,1,2]]"
   ]
  },
  {
   "cell_type": "code",
   "execution_count": 53,
   "metadata": {},
   "outputs": [
    {
     "data": {
      "text/plain": [
       "'와라와라호프'"
      ]
     },
     "execution_count": 53,
     "metadata": {},
     "output_type": "execute_result"
    }
   ],
   "source": [
    "df.loc[0][\"상호명\"]"
   ]
  },
  {
   "cell_type": "code",
   "execution_count": 56,
   "metadata": {},
   "outputs": [
    {
     "data": {
      "text/html": [
       "<div>\n",
       "<style scoped>\n",
       "    .dataframe tbody tr th:only-of-type {\n",
       "        vertical-align: middle;\n",
       "    }\n",
       "\n",
       "    .dataframe tbody tr th {\n",
       "        vertical-align: top;\n",
       "    }\n",
       "\n",
       "    .dataframe thead th {\n",
       "        text-align: right;\n",
       "    }\n",
       "</style>\n",
       "<table border=\"1\" class=\"dataframe\">\n",
       "  <thead>\n",
       "    <tr style=\"text-align: right;\">\n",
       "      <th></th>\n",
       "      <th>상호명</th>\n",
       "      <th>도로명주소</th>\n",
       "    </tr>\n",
       "  </thead>\n",
       "  <tbody>\n",
       "    <tr>\n",
       "      <th>0</th>\n",
       "      <td>와라와라호프</td>\n",
       "      <td>서울특별시 강남구 남부순환로 2933</td>\n",
       "    </tr>\n",
       "    <tr>\n",
       "      <th>1</th>\n",
       "      <td>커피빈코리아선릉로93길점</td>\n",
       "      <td>서울특별시 강남구 선릉로93길 6</td>\n",
       "    </tr>\n",
       "    <tr>\n",
       "      <th>2</th>\n",
       "      <td>프로포즈</td>\n",
       "      <td>서울특별시 금천구 가산로 34-6</td>\n",
       "    </tr>\n",
       "  </tbody>\n",
       "</table>\n",
       "</div>"
      ],
      "text/plain": [
       "             상호명                 도로명주소\n",
       "0         와라와라호프  서울특별시 강남구 남부순환로 2933\n",
       "1  커피빈코리아선릉로93길점    서울특별시 강남구 선릉로93길 6\n",
       "2           프로포즈    서울특별시 금천구 가산로 34-6"
      ]
     },
     "execution_count": 56,
     "metadata": {},
     "output_type": "execute_result"
    }
   ],
   "source": [
    "df.loc[[0,1,2], [\"상호명\",\"도로명주소\"]]"
   ]
  },
  {
   "cell_type": "code",
   "execution_count": 59,
   "metadata": {},
   "outputs": [
    {
     "data": {
      "text/html": [
       "<div>\n",
       "<style scoped>\n",
       "    .dataframe tbody tr th:only-of-type {\n",
       "        vertical-align: middle;\n",
       "    }\n",
       "\n",
       "    .dataframe tbody tr th {\n",
       "        vertical-align: top;\n",
       "    }\n",
       "\n",
       "    .dataframe thead th {\n",
       "        text-align: right;\n",
       "    }\n",
       "</style>\n",
       "<table border=\"1\" class=\"dataframe\">\n",
       "  <thead>\n",
       "    <tr style=\"text-align: right;\">\n",
       "      <th></th>\n",
       "      <th>상호명</th>\n",
       "      <th>상권업종대분류명</th>\n",
       "      <th>상권업종중분류명</th>\n",
       "      <th>상권업종소분류명</th>\n",
       "      <th>시도명</th>\n",
       "    </tr>\n",
       "  </thead>\n",
       "  <tbody>\n",
       "    <tr>\n",
       "      <th>0</th>\n",
       "      <td>와라와라호프</td>\n",
       "      <td>음식</td>\n",
       "      <td>유흥주점</td>\n",
       "      <td>호프/맥주</td>\n",
       "      <td>서울특별시</td>\n",
       "    </tr>\n",
       "    <tr>\n",
       "      <th>1</th>\n",
       "      <td>커피빈코리아선릉로93길점</td>\n",
       "      <td>음식</td>\n",
       "      <td>커피점/카페</td>\n",
       "      <td>커피전문점/카페/다방</td>\n",
       "      <td>서울특별시</td>\n",
       "    </tr>\n",
       "    <tr>\n",
       "      <th>2</th>\n",
       "      <td>프로포즈</td>\n",
       "      <td>음식</td>\n",
       "      <td>유흥주점</td>\n",
       "      <td>호프/맥주</td>\n",
       "      <td>서울특별시</td>\n",
       "    </tr>\n",
       "    <tr>\n",
       "      <th>3</th>\n",
       "      <td>싱싱커피&amp;토스트</td>\n",
       "      <td>음식</td>\n",
       "      <td>패스트푸드</td>\n",
       "      <td>토스트전문</td>\n",
       "      <td>부산광역시</td>\n",
       "    </tr>\n",
       "    <tr>\n",
       "      <th>4</th>\n",
       "      <td>가락사우나내스낵</td>\n",
       "      <td>생활서비스</td>\n",
       "      <td>대중목욕탕/휴게</td>\n",
       "      <td>사우나/증기탕/온천</td>\n",
       "      <td>서울특별시</td>\n",
       "    </tr>\n",
       "  </tbody>\n",
       "</table>\n",
       "</div>"
      ],
      "text/plain": [
       "             상호명 상권업종대분류명  상권업종중분류명     상권업종소분류명    시도명\n",
       "0         와라와라호프       음식      유흥주점        호프/맥주  서울특별시\n",
       "1  커피빈코리아선릉로93길점       음식    커피점/카페  커피전문점/카페/다방  서울특별시\n",
       "2           프로포즈       음식      유흥주점        호프/맥주  서울특별시\n",
       "3       싱싱커피&토스트       음식     패스트푸드        토스트전문  부산광역시\n",
       "4       가락사우나내스낵    생활서비스  대중목욕탕/휴게   사우나/증기탕/온천  서울특별시"
      ]
     },
     "execution_count": 59,
     "metadata": {},
     "output_type": "execute_result"
    }
   ],
   "source": [
    "df.iloc[:5, :5]"
   ]
  },
  {
   "cell_type": "code",
   "execution_count": 60,
   "metadata": {},
   "outputs": [
    {
     "data": {
      "text/html": [
       "<div>\n",
       "<style scoped>\n",
       "    .dataframe tbody tr th:only-of-type {\n",
       "        vertical-align: middle;\n",
       "    }\n",
       "\n",
       "    .dataframe tbody tr th {\n",
       "        vertical-align: top;\n",
       "    }\n",
       "\n",
       "    .dataframe thead th {\n",
       "        text-align: right;\n",
       "    }\n",
       "</style>\n",
       "<table border=\"1\" class=\"dataframe\">\n",
       "  <thead>\n",
       "    <tr style=\"text-align: right;\">\n",
       "      <th></th>\n",
       "      <th>도로명</th>\n",
       "      <th>건물본번지</th>\n",
       "      <th>도로명주소</th>\n",
       "      <th>경도</th>\n",
       "      <th>위도</th>\n",
       "    </tr>\n",
       "  </thead>\n",
       "  <tbody>\n",
       "    <tr>\n",
       "      <th>573675</th>\n",
       "      <td>서울특별시 마포구 마포대로14길</td>\n",
       "      <td>4</td>\n",
       "      <td>서울특별시 마포구 마포대로14길 4</td>\n",
       "      <td>126.955059</td>\n",
       "      <td>37.548618</td>\n",
       "    </tr>\n",
       "    <tr>\n",
       "      <th>573676</th>\n",
       "      <td>서울특별시 성동구 성수일로8길</td>\n",
       "      <td>37</td>\n",
       "      <td>서울특별시 성동구 성수일로8길 37</td>\n",
       "      <td>127.054615</td>\n",
       "      <td>37.545853</td>\n",
       "    </tr>\n",
       "    <tr>\n",
       "      <th>573677</th>\n",
       "      <td>서울특별시 강남구 강남대로</td>\n",
       "      <td>492</td>\n",
       "      <td>서울특별시 강남구 강남대로 492</td>\n",
       "      <td>127.024102</td>\n",
       "      <td>37.506202</td>\n",
       "    </tr>\n",
       "    <tr>\n",
       "      <th>573678</th>\n",
       "      <td>서울특별시 영등포구 국제금융로</td>\n",
       "      <td>10</td>\n",
       "      <td>서울특별시 영등포구 국제금융로 10</td>\n",
       "      <td>126.924863</td>\n",
       "      <td>37.525172</td>\n",
       "    </tr>\n",
       "    <tr>\n",
       "      <th>573679</th>\n",
       "      <td>서울특별시 도봉구 도봉로114길</td>\n",
       "      <td>22</td>\n",
       "      <td>서울특별시 도봉구 도봉로114길 22-8</td>\n",
       "      <td>127.035145</td>\n",
       "      <td>37.647099</td>\n",
       "    </tr>\n",
       "  </tbody>\n",
       "</table>\n",
       "</div>"
      ],
      "text/plain": [
       "                      도로명  건물본번지                   도로명주소          경도  \\\n",
       "573675  서울특별시 마포구 마포대로14길      4     서울특별시 마포구 마포대로14길 4  126.955059   \n",
       "573676   서울특별시 성동구 성수일로8길     37     서울특별시 성동구 성수일로8길 37  127.054615   \n",
       "573677     서울특별시 강남구 강남대로    492      서울특별시 강남구 강남대로 492  127.024102   \n",
       "573678   서울특별시 영등포구 국제금융로     10     서울특별시 영등포구 국제금융로 10  126.924863   \n",
       "573679  서울특별시 도봉구 도봉로114길     22  서울특별시 도봉구 도봉로114길 22-8  127.035145   \n",
       "\n",
       "               위도  \n",
       "573675  37.548618  \n",
       "573676  37.545853  \n",
       "573677  37.506202  \n",
       "573678  37.525172  \n",
       "573679  37.647099  "
      ]
     },
     "execution_count": 60,
     "metadata": {},
     "output_type": "execute_result"
    }
   ],
   "source": [
    "df.iloc[-5:,-5:]"
   ]
  },
  {
   "cell_type": "code",
   "execution_count": 61,
   "metadata": {},
   "outputs": [
    {
     "data": {
      "text/html": [
       "<div>\n",
       "<style scoped>\n",
       "    .dataframe tbody tr th:only-of-type {\n",
       "        vertical-align: middle;\n",
       "    }\n",
       "\n",
       "    .dataframe tbody tr th {\n",
       "        vertical-align: top;\n",
       "    }\n",
       "\n",
       "    .dataframe thead th {\n",
       "        text-align: right;\n",
       "    }\n",
       "</style>\n",
       "<table border=\"1\" class=\"dataframe\">\n",
       "  <thead>\n",
       "    <tr style=\"text-align: right;\">\n",
       "      <th></th>\n",
       "      <th>지번본번지</th>\n",
       "      <th>건물본번지</th>\n",
       "      <th>경도</th>\n",
       "      <th>위도</th>\n",
       "    </tr>\n",
       "  </thead>\n",
       "  <tbody>\n",
       "    <tr>\n",
       "      <th>count</th>\n",
       "      <td>573680.000000</td>\n",
       "      <td>573680.000000</td>\n",
       "      <td>573680.000000</td>\n",
       "      <td>573680.000000</td>\n",
       "    </tr>\n",
       "    <tr>\n",
       "      <th>mean</th>\n",
       "      <td>469.281810</td>\n",
       "      <td>153.912094</td>\n",
       "      <td>127.596287</td>\n",
       "      <td>36.854698</td>\n",
       "    </tr>\n",
       "    <tr>\n",
       "      <th>std</th>\n",
       "      <td>484.778049</td>\n",
       "      <td>276.980935</td>\n",
       "      <td>0.941262</td>\n",
       "      <td>1.081285</td>\n",
       "    </tr>\n",
       "    <tr>\n",
       "      <th>min</th>\n",
       "      <td>1.000000</td>\n",
       "      <td>0.000000</td>\n",
       "      <td>126.768169</td>\n",
       "      <td>35.006760</td>\n",
       "    </tr>\n",
       "    <tr>\n",
       "      <th>25%</th>\n",
       "      <td>109.000000</td>\n",
       "      <td>20.000000</td>\n",
       "      <td>126.968316</td>\n",
       "      <td>35.215422</td>\n",
       "    </tr>\n",
       "    <tr>\n",
       "      <th>50%</th>\n",
       "      <td>335.000000</td>\n",
       "      <td>50.000000</td>\n",
       "      <td>127.047672</td>\n",
       "      <td>37.511207</td>\n",
       "    </tr>\n",
       "    <tr>\n",
       "      <th>75%</th>\n",
       "      <td>678.000000</td>\n",
       "      <td>172.000000</td>\n",
       "      <td>128.986938</td>\n",
       "      <td>37.560362</td>\n",
       "    </tr>\n",
       "    <tr>\n",
       "      <th>max</th>\n",
       "      <td>9999.000000</td>\n",
       "      <td>3318.000000</td>\n",
       "      <td>129.292243</td>\n",
       "      <td>37.692398</td>\n",
       "    </tr>\n",
       "  </tbody>\n",
       "</table>\n",
       "</div>"
      ],
      "text/plain": [
       "               지번본번지          건물본번지             경도             위도\n",
       "count  573680.000000  573680.000000  573680.000000  573680.000000\n",
       "mean      469.281810     153.912094     127.596287      36.854698\n",
       "std       484.778049     276.980935       0.941262       1.081285\n",
       "min         1.000000       0.000000     126.768169      35.006760\n",
       "25%       109.000000      20.000000     126.968316      35.215422\n",
       "50%       335.000000      50.000000     127.047672      37.511207\n",
       "75%       678.000000     172.000000     128.986938      37.560362\n",
       "max      9999.000000    3318.000000     129.292243      37.692398"
      ]
     },
     "execution_count": 61,
     "metadata": {},
     "output_type": "execute_result"
    }
   ],
   "source": [
    "df.describe()"
   ]
  },
  {
   "cell_type": "code",
   "execution_count": 64,
   "metadata": {},
   "outputs": [
    {
     "data": {
      "text/html": [
       "<div>\n",
       "<style scoped>\n",
       "    .dataframe tbody tr th:only-of-type {\n",
       "        vertical-align: middle;\n",
       "    }\n",
       "\n",
       "    .dataframe tbody tr th {\n",
       "        vertical-align: top;\n",
       "    }\n",
       "\n",
       "    .dataframe thead th {\n",
       "        text-align: right;\n",
       "    }\n",
       "</style>\n",
       "<table border=\"1\" class=\"dataframe\">\n",
       "  <thead>\n",
       "    <tr style=\"text-align: right;\">\n",
       "      <th></th>\n",
       "      <th>위도</th>\n",
       "      <th>경도</th>\n",
       "    </tr>\n",
       "  </thead>\n",
       "  <tbody>\n",
       "    <tr>\n",
       "      <th>count</th>\n",
       "      <td>573680.000000</td>\n",
       "      <td>573680.000000</td>\n",
       "    </tr>\n",
       "    <tr>\n",
       "      <th>mean</th>\n",
       "      <td>36.854698</td>\n",
       "      <td>127.596287</td>\n",
       "    </tr>\n",
       "    <tr>\n",
       "      <th>std</th>\n",
       "      <td>1.081285</td>\n",
       "      <td>0.941262</td>\n",
       "    </tr>\n",
       "    <tr>\n",
       "      <th>min</th>\n",
       "      <td>35.006760</td>\n",
       "      <td>126.768169</td>\n",
       "    </tr>\n",
       "    <tr>\n",
       "      <th>25%</th>\n",
       "      <td>35.215422</td>\n",
       "      <td>126.968316</td>\n",
       "    </tr>\n",
       "    <tr>\n",
       "      <th>50%</th>\n",
       "      <td>37.511207</td>\n",
       "      <td>127.047672</td>\n",
       "    </tr>\n",
       "    <tr>\n",
       "      <th>75%</th>\n",
       "      <td>37.560362</td>\n",
       "      <td>128.986938</td>\n",
       "    </tr>\n",
       "    <tr>\n",
       "      <th>max</th>\n",
       "      <td>37.692398</td>\n",
       "      <td>129.292243</td>\n",
       "    </tr>\n",
       "  </tbody>\n",
       "</table>\n",
       "</div>"
      ],
      "text/plain": [
       "                  위도             경도\n",
       "count  573680.000000  573680.000000\n",
       "mean       36.854698     127.596287\n",
       "std         1.081285       0.941262\n",
       "min        35.006760     126.768169\n",
       "25%        35.215422     126.968316\n",
       "50%        37.511207     127.047672\n",
       "75%        37.560362     128.986938\n",
       "max        37.692398     129.292243"
      ]
     },
     "execution_count": 64,
     "metadata": {},
     "output_type": "execute_result"
    }
   ],
   "source": [
    "df[[\"위도\",\"경도\"]].describe()"
   ]
  },
  {
   "cell_type": "code",
   "execution_count": 65,
   "metadata": {},
   "outputs": [
    {
     "data": {
      "text/plain": [
       "573680"
      ]
     },
     "execution_count": 65,
     "metadata": {},
     "output_type": "execute_result"
    }
   ],
   "source": [
    "df[\"위도\"].count()"
   ]
  },
  {
   "cell_type": "code",
   "execution_count": 66,
   "metadata": {},
   "outputs": [
    {
     "data": {
      "text/plain": [
       "36.85469787421801"
      ]
     },
     "execution_count": 66,
     "metadata": {},
     "output_type": "execute_result"
    }
   ],
   "source": [
    "df[\"위도\"].mean()"
   ]
  },
  {
   "cell_type": "code",
   "execution_count": 67,
   "metadata": {},
   "outputs": [
    {
     "data": {
      "text/plain": [
       "37.69239838166121"
      ]
     },
     "execution_count": 67,
     "metadata": {},
     "output_type": "execute_result"
    }
   ],
   "source": [
    "df[\"위도\"].max()"
   ]
  },
  {
   "cell_type": "code",
   "execution_count": 68,
   "metadata": {},
   "outputs": [
    {
     "data": {
      "text/plain": [
       "35.0067597383124"
      ]
     },
     "execution_count": 68,
     "metadata": {},
     "output_type": "execute_result"
    }
   ],
   "source": [
    "df[\"위도\"].min()"
   ]
  },
  {
   "cell_type": "code",
   "execution_count": 70,
   "metadata": {},
   "outputs": [
    {
     "data": {
      "text/plain": [
       "35.21542173433561"
      ]
     },
     "execution_count": 70,
     "metadata": {},
     "output_type": "execute_result"
    }
   ],
   "source": [
    "df[\"위도\"].quantile(q=0.25)"
   ]
  },
  {
   "cell_type": "code",
   "execution_count": 71,
   "metadata": {},
   "outputs": [
    {
     "data": {
      "text/plain": [
       "37.5112070048312"
      ]
     },
     "execution_count": 71,
     "metadata": {},
     "output_type": "execute_result"
    }
   ],
   "source": [
    "df[\"위도\"].median()"
   ]
  },
  {
   "cell_type": "code",
   "execution_count": 72,
   "metadata": {},
   "outputs": [
    {
     "data": {
      "text/plain": [
       "36.85469787421801"
      ]
     },
     "execution_count": 72,
     "metadata": {},
     "output_type": "execute_result"
    }
   ],
   "source": [
    "df[\"위도\"].mean()"
   ]
  },
  {
   "cell_type": "code",
   "execution_count": 73,
   "metadata": {},
   "outputs": [
    {
     "data": {
      "text/plain": [
       "1.1691762199811755"
      ]
     },
     "execution_count": 73,
     "metadata": {},
     "output_type": "execute_result"
    }
   ],
   "source": [
    "df[\"위도\"].var()"
   ]
  },
  {
   "cell_type": "code",
   "execution_count": 74,
   "metadata": {},
   "outputs": [],
   "source": [
    "import numpy as np"
   ]
  },
  {
   "cell_type": "code",
   "execution_count": 75,
   "metadata": {},
   "outputs": [
    {
     "data": {
      "text/plain": [
       "1.0812845231395738"
      ]
     },
     "execution_count": 75,
     "metadata": {},
     "output_type": "execute_result"
    }
   ],
   "source": [
    "np.sqrt(df[\"위도\"].var())"
   ]
  },
  {
   "cell_type": "code",
   "execution_count": 76,
   "metadata": {},
   "outputs": [
    {
     "data": {
      "text/plain": [
       "1.0812845231395738"
      ]
     },
     "execution_count": 76,
     "metadata": {},
     "output_type": "execute_result"
    }
   ],
   "source": [
    "df[\"위도\"].std()"
   ]
  },
  {
   "cell_type": "code",
   "execution_count": 79,
   "metadata": {},
   "outputs": [
    {
     "data": {
      "text/plain": [
       "<matplotlib.axes._subplots.AxesSubplot at 0x1e33af454c8>"
      ]
     },
     "execution_count": 79,
     "metadata": {},
     "output_type": "execute_result"
    },
    {
     "data": {
      "image/png": "[encoded data removed]",
      "text/plain": [
       "<Figure size 432x288 with 1 Axes>"
      ]
     },
     "metadata": {
      "needs_background": "light"
     },
     "output_type": "display_data"
    }
   ],
   "source": [
    "sns.distplot(df[\"위도\"],bins=50)"
   ]
  },
  {
   "cell_type": "code",
   "execution_count": 80,
   "metadata": {},
   "outputs": [
    {
     "data": {
      "text/plain": [
       "<matplotlib.axes._subplots.AxesSubplot at 0x1e33b065348>"
      ]
     },
     "execution_count": 80,
     "metadata": {},
     "output_type": "execute_result"
    },
    {
     "data": {
      "image/png": "[encoded data removed]",
      "text/plain": [
       "<Figure size 432x288 with 1 Axes>"
      ]
     },
     "metadata": {
      "needs_background": "light"
     },
     "output_type": "display_data"
    }
   ],
   "source": [
    "sns.distplot(df[\"경도\"])"
   ]
  },
  {
   "cell_type": "code",
   "execution_count": 82,
   "metadata": {},
   "outputs": [
    {
     "data": {
      "text/plain": [
       "<matplotlib.axes._subplots.AxesSubplot at 0x1e33b3c3ec8>"
      ]
     },
     "execution_count": 82,
     "metadata": {},
     "output_type": "execute_result"
    },
    {
     "data": {
      "image/png": "[encoded data removed]",
      "text/plain": [
       "<Figure size 432x288 with 1 Axes>"
      ]
     },
     "metadata": {
      "needs_background": "light"
     },
     "output_type": "display_data"
    }
   ],
   "source": [
    "plt.axvline(df[\"위도\"].mean(), linestyle=\":\")\n",
    "plt.axvline(df[\"위도\"].median(), linestyle=\"--\")\n",
    "\n",
    "sns.distplot(df[\"위도\"])"
   ]
  },
  {
   "cell_type": "code",
   "execution_count": 83,
   "metadata": {},
   "outputs": [
    {
     "data": {
      "text/html": [
       "<div>\n",
       "<style scoped>\n",
       "    .dataframe tbody tr th:only-of-type {\n",
       "        vertical-align: middle;\n",
       "    }\n",
       "\n",
       "    .dataframe tbody tr th {\n",
       "        vertical-align: top;\n",
       "    }\n",
       "\n",
       "    .dataframe thead th {\n",
       "        text-align: right;\n",
       "    }\n",
       "</style>\n",
       "<table border=\"1\" class=\"dataframe\">\n",
       "  <thead>\n",
       "    <tr style=\"text-align: right;\">\n",
       "      <th></th>\n",
       "      <th>지번본번지</th>\n",
       "      <th>건물본번지</th>\n",
       "      <th>경도</th>\n",
       "      <th>위도</th>\n",
       "    </tr>\n",
       "  </thead>\n",
       "  <tbody>\n",
       "    <tr>\n",
       "      <th>지번본번지</th>\n",
       "      <td>1.000000</td>\n",
       "      <td>0.057987</td>\n",
       "      <td>0.182678</td>\n",
       "      <td>-0.196658</td>\n",
       "    </tr>\n",
       "    <tr>\n",
       "      <th>건물본번지</th>\n",
       "      <td>0.057987</td>\n",
       "      <td>1.000000</td>\n",
       "      <td>0.000255</td>\n",
       "      <td>0.004606</td>\n",
       "    </tr>\n",
       "    <tr>\n",
       "      <th>경도</th>\n",
       "      <td>0.182678</td>\n",
       "      <td>0.000255</td>\n",
       "      <td>1.000000</td>\n",
       "      <td>-0.994711</td>\n",
       "    </tr>\n",
       "    <tr>\n",
       "      <th>위도</th>\n",
       "      <td>-0.196658</td>\n",
       "      <td>0.004606</td>\n",
       "      <td>-0.994711</td>\n",
       "      <td>1.000000</td>\n",
       "    </tr>\n",
       "  </tbody>\n",
       "</table>\n",
       "</div>"
      ],
      "text/plain": [
       "          지번본번지     건물본번지        경도        위도\n",
       "지번본번지  1.000000  0.057987  0.182678 -0.196658\n",
       "건물본번지  0.057987  1.000000  0.000255  0.004606\n",
       "경도     0.182678  0.000255  1.000000 -0.994711\n",
       "위도    -0.196658  0.004606 -0.994711  1.000000"
      ]
     },
     "execution_count": 83,
     "metadata": {},
     "output_type": "execute_result"
    }
   ],
   "source": [
    "corr = df.corr()\n",
    "corr"
   ]
  },
  {
   "cell_type": "code",
   "execution_count": 88,
   "metadata": {},
   "outputs": [
    {
     "data": {
      "text/plain": [
       "<matplotlib.axes._subplots.AxesSubplot at 0x1e33b76d548>"
      ]
     },
     "execution_count": 88,
     "metadata": {},
     "output_type": "execute_result"
    },
    {
     "data": {
      "image/png": "[encoded data removed]",
      "text/plain": [
       "<Figure size 432x288 with 2 Axes>"
      ]
     },
     "metadata": {
      "needs_background": "light"
     },
     "output_type": "display_data"
    }
   ],
   "source": [
    "sns.heatmap(corr, annot=True, cmap=\"Blues\",mask=mask)"
   ]
  },
  {
   "cell_type": "code",
   "execution_count": 87,
   "metadata": {},
   "outputs": [],
   "source": [
    "mask = np.triu(np.ones_like(corr,dtype=np.bool))"
   ]
  },
  {
   "cell_type": "code",
   "execution_count": 89,
   "metadata": {},
   "outputs": [
    {
     "data": {
      "text/plain": [
       "<matplotlib.axes._subplots.AxesSubplot at 0x1e33b7f0fc8>"
      ]
     },
     "execution_count": 89,
     "metadata": {},
     "output_type": "execute_result"
    },
    {
     "data": {
      "image/png": "[encoded data removed]",
      "text/plain": [
       "<Figure size 432x288 with 1 Axes>"
      ]
     },
     "metadata": {
      "needs_background": "light"
     },
     "output_type": "display_data"
    }
   ],
   "source": [
    "sns.scatterplot(data=df.sample(1000), x=\"경도\", y=\"위도\")"
   ]
  },
  {
   "cell_type": "code",
   "execution_count": 90,
   "metadata": {},
   "outputs": [
    {
     "data": {
      "text/plain": [
       "<matplotlib.axes._subplots.AxesSubplot at 0x1e33b814408>"
      ]
     },
     "execution_count": 90,
     "metadata": {},
     "output_type": "execute_result"
    },
    {
     "data": {
      "image/png": "[encoded data removed]",
      "text/plain": [
       "<Figure size 432x288 with 1 Axes>"
      ]
     },
     "metadata": {
      "needs_background": "light"
     },
     "output_type": "display_data"
    }
   ],
   "source": [
    "sns.regplot(data=df.sample(1000), x=\"경도\", y=\"위도\")"
   ]
  },
  {
   "cell_type": "code",
   "execution_count": 94,
   "metadata": {},
   "outputs": [
    {
     "data": {
      "text/plain": [
       "<seaborn.axisgrid.FacetGrid at 0x1e308b51488>"
      ]
     },
     "execution_count": 94,
     "metadata": {},
     "output_type": "execute_result"
    },
    {
     "data": {
      "image/png": "[encoded data removed]",
      "text/plain": [
       "<Figure size 720x360 with 2 Axes>"
      ]
     },
     "metadata": {
      "needs_background": "light"
     },
     "output_type": "display_data"
    }
   ],
   "source": [
    "sns.lmplot(data=df.sample(1000), x=\"경도\", y=\"위도\", hue=\"시도명\",col=\"시도명\")"
   ]
  },
  {
   "cell_type": "code",
   "execution_count": 32,
   "metadata": {},
   "outputs": [
    {
     "data": {
      "text/html": [
       "<div>\n",
       "<style scoped>\n",
       "    .dataframe tbody tr th:only-of-type {\n",
       "        vertical-align: middle;\n",
       "    }\n",
       "\n",
       "    .dataframe tbody tr th {\n",
       "        vertical-align: top;\n",
       "    }\n",
       "\n",
       "    .dataframe thead th {\n",
       "        text-align: right;\n",
       "    }\n",
       "</style>\n",
       "<table border=\"1\" class=\"dataframe\">\n",
       "  <thead>\n",
       "    <tr style=\"text-align: right;\">\n",
       "      <th></th>\n",
       "      <th>상호명</th>\n",
       "      <th>상권업종대분류명</th>\n",
       "      <th>상권업종중분류명</th>\n",
       "      <th>상권업종소분류명</th>\n",
       "      <th>시도명</th>\n",
       "      <th>시군구명</th>\n",
       "      <th>행정동명</th>\n",
       "      <th>법정동명</th>\n",
       "      <th>대지구분명</th>\n",
       "      <th>지번주소</th>\n",
       "      <th>도로명</th>\n",
       "      <th>도로명주소</th>\n",
       "    </tr>\n",
       "  </thead>\n",
       "  <tbody>\n",
       "    <tr>\n",
       "      <th>count</th>\n",
       "      <td>573679</td>\n",
       "      <td>573680</td>\n",
       "      <td>573680</td>\n",
       "      <td>573680</td>\n",
       "      <td>573680</td>\n",
       "      <td>573680</td>\n",
       "      <td>573680</td>\n",
       "      <td>573680</td>\n",
       "      <td>573680</td>\n",
       "      <td>573680</td>\n",
       "      <td>573680</td>\n",
       "      <td>573680</td>\n",
       "    </tr>\n",
       "    <tr>\n",
       "      <th>unique</th>\n",
       "      <td>378758</td>\n",
       "      <td>9</td>\n",
       "      <td>94</td>\n",
       "      <td>709</td>\n",
       "      <td>2</td>\n",
       "      <td>39</td>\n",
       "      <td>629</td>\n",
       "      <td>648</td>\n",
       "      <td>2</td>\n",
       "      <td>190237</td>\n",
       "      <td>18001</td>\n",
       "      <td>190486</td>\n",
       "    </tr>\n",
       "    <tr>\n",
       "      <th>top</th>\n",
       "      <td>점프셈교실</td>\n",
       "      <td>음식</td>\n",
       "      <td>한식</td>\n",
       "      <td>한식/백반/한정식</td>\n",
       "      <td>서울특별시</td>\n",
       "      <td>강남구</td>\n",
       "      <td>역삼1동</td>\n",
       "      <td>역삼동</td>\n",
       "      <td>대지</td>\n",
       "      <td>부산광역시 부산진구 부전동 503-15</td>\n",
       "      <td>서울특별시 서초구 신반포로</td>\n",
       "      <td>부산광역시 부산진구 가야대로 772</td>\n",
       "    </tr>\n",
       "    <tr>\n",
       "      <th>freq</th>\n",
       "      <td>2297</td>\n",
       "      <td>185516</td>\n",
       "      <td>59725</td>\n",
       "      <td>38133</td>\n",
       "      <td>407376</td>\n",
       "      <td>47080</td>\n",
       "      <td>10400</td>\n",
       "      <td>12102</td>\n",
       "      <td>572913</td>\n",
       "      <td>1058</td>\n",
       "      <td>3543</td>\n",
       "      <td>1058</td>\n",
       "    </tr>\n",
       "  </tbody>\n",
       "</table>\n",
       "</div>"
      ],
      "text/plain": [
       "           상호명 상권업종대분류명 상권업종중분류명   상권업종소분류명     시도명    시군구명    행정동명    법정동명  \\\n",
       "count   573679   573680   573680     573680  573680  573680  573680  573680   \n",
       "unique  378758        9       94        709       2      39     629     648   \n",
       "top      점프셈교실       음식       한식  한식/백반/한정식   서울특별시     강남구    역삼1동     역삼동   \n",
       "freq      2297   185516    59725      38133  407376   47080   10400   12102   \n",
       "\n",
       "         대지구분명                   지번주소             도로명                도로명주소  \n",
       "count   573680                 573680          573680               573680  \n",
       "unique       2                 190237           18001               190486  \n",
       "top         대지  부산광역시 부산진구 부전동 503-15  서울특별시 서초구 신반포로  부산광역시 부산진구 가야대로 772  \n",
       "freq    572913                   1058            3543                 1058  "
      ]
     },
     "execution_count": 32,
     "metadata": {},
     "output_type": "execute_result"
    }
   ],
   "source": [
    "df.describe(include=\"object\")"
   ]
  },
  {
   "cell_type": "code",
   "execution_count": 33,
   "metadata": {},
   "outputs": [
    {
     "data": {
      "text/plain": [
       "count     573680\n",
       "unique         9\n",
       "top           음식\n",
       "freq      185516\n",
       "Name: 상권업종대분류명, dtype: object"
      ]
     },
     "execution_count": 33,
     "metadata": {},
     "output_type": "execute_result"
    }
   ],
   "source": [
    "df[\"상권업종대분류명\"].describe()"
   ]
  },
  {
   "cell_type": "code",
   "execution_count": 34,
   "metadata": {},
   "outputs": [
    {
     "data": {
      "text/plain": [
       "9"
      ]
     },
     "execution_count": 34,
     "metadata": {},
     "output_type": "execute_result"
    }
   ],
   "source": [
    "df[\"상권업종대분류명\"].nunique()"
   ]
  },
  {
   "cell_type": "code",
   "execution_count": 35,
   "metadata": {},
   "outputs": [
    {
     "data": {
      "text/plain": [
       "음식          185516\n",
       "소매          179460\n",
       "생활서비스        97789\n",
       "학문/교육        42477\n",
       "의료           25509\n",
       "부동산          20918\n",
       "관광/여가/오락     16377\n",
       "숙박            5327\n",
       "스포츠            307\n",
       "Name: 상권업종대분류명, dtype: int64"
      ]
     },
     "execution_count": 35,
     "metadata": {},
     "output_type": "execute_result"
    }
   ],
   "source": [
    "df[\"상권업종대분류명\"].value_counts()"
   ]
  },
  {
   "cell_type": "code",
   "execution_count": 36,
   "metadata": {},
   "outputs": [
    {
     "data": {
      "text/plain": [
       "(573680, 16)"
      ]
     },
     "execution_count": 36,
     "metadata": {},
     "output_type": "execute_result"
    }
   ],
   "source": [
    "df.shape"
   ]
  },
  {
   "cell_type": "code",
   "execution_count": 37,
   "metadata": {},
   "outputs": [
    {
     "data": {
      "text/html": [
       "<div>\n",
       "<style scoped>\n",
       "    .dataframe tbody tr th:only-of-type {\n",
       "        vertical-align: middle;\n",
       "    }\n",
       "\n",
       "    .dataframe tbody tr th {\n",
       "        vertical-align: top;\n",
       "    }\n",
       "\n",
       "    .dataframe thead th {\n",
       "        text-align: right;\n",
       "    }\n",
       "</style>\n",
       "<table border=\"1\" class=\"dataframe\">\n",
       "  <thead>\n",
       "    <tr style=\"text-align: right;\">\n",
       "      <th></th>\n",
       "      <th>상호명</th>\n",
       "      <th>상권업종대분류명</th>\n",
       "      <th>상권업종중분류명</th>\n",
       "      <th>상권업종소분류명</th>\n",
       "      <th>시도명</th>\n",
       "      <th>시군구명</th>\n",
       "      <th>행정동명</th>\n",
       "      <th>법정동명</th>\n",
       "      <th>대지구분명</th>\n",
       "      <th>지번본번지</th>\n",
       "      <th>지번주소</th>\n",
       "      <th>도로명</th>\n",
       "      <th>건물본번지</th>\n",
       "      <th>도로명주소</th>\n",
       "      <th>경도</th>\n",
       "      <th>위도</th>\n",
       "    </tr>\n",
       "  </thead>\n",
       "  <tbody>\n",
       "    <tr>\n",
       "      <th>0</th>\n",
       "      <td>와라와라호프</td>\n",
       "      <td>음식</td>\n",
       "      <td>유흥주점</td>\n",
       "      <td>호프/맥주</td>\n",
       "      <td>서울특별시</td>\n",
       "      <td>강남구</td>\n",
       "      <td>대치1동</td>\n",
       "      <td>대치동</td>\n",
       "      <td>대지</td>\n",
       "      <td>604</td>\n",
       "      <td>서울특별시 강남구 대치동 604</td>\n",
       "      <td>서울특별시 강남구 남부순환로</td>\n",
       "      <td>2933</td>\n",
       "      <td>서울특별시 강남구 남부순환로 2933</td>\n",
       "      <td>127.061026</td>\n",
       "      <td>37.493922</td>\n",
       "    </tr>\n",
       "    <tr>\n",
       "      <th>1</th>\n",
       "      <td>커피빈코리아선릉로93길점</td>\n",
       "      <td>음식</td>\n",
       "      <td>커피점/카페</td>\n",
       "      <td>커피전문점/카페/다방</td>\n",
       "      <td>서울특별시</td>\n",
       "      <td>강남구</td>\n",
       "      <td>역삼1동</td>\n",
       "      <td>역삼동</td>\n",
       "      <td>대지</td>\n",
       "      <td>696</td>\n",
       "      <td>서울특별시 강남구 역삼동 696-42</td>\n",
       "      <td>서울특별시 강남구 선릉로93길</td>\n",
       "      <td>6</td>\n",
       "      <td>서울특별시 강남구 선릉로93길 6</td>\n",
       "      <td>127.047883</td>\n",
       "      <td>37.505675</td>\n",
       "    </tr>\n",
       "    <tr>\n",
       "      <th>2</th>\n",
       "      <td>프로포즈</td>\n",
       "      <td>음식</td>\n",
       "      <td>유흥주점</td>\n",
       "      <td>호프/맥주</td>\n",
       "      <td>서울특별시</td>\n",
       "      <td>금천구</td>\n",
       "      <td>독산3동</td>\n",
       "      <td>독산동</td>\n",
       "      <td>대지</td>\n",
       "      <td>162</td>\n",
       "      <td>서울특별시 금천구 독산동 162-1</td>\n",
       "      <td>서울특별시 금천구 가산로</td>\n",
       "      <td>34</td>\n",
       "      <td>서울특별시 금천구 가산로 34-6</td>\n",
       "      <td>126.899220</td>\n",
       "      <td>37.471711</td>\n",
       "    </tr>\n",
       "    <tr>\n",
       "      <th>3</th>\n",
       "      <td>싱싱커피&amp;토스트</td>\n",
       "      <td>음식</td>\n",
       "      <td>패스트푸드</td>\n",
       "      <td>토스트전문</td>\n",
       "      <td>부산광역시</td>\n",
       "      <td>사상구</td>\n",
       "      <td>괘법동</td>\n",
       "      <td>괘법동</td>\n",
       "      <td>대지</td>\n",
       "      <td>578</td>\n",
       "      <td>부산광역시 사상구 괘법동 578</td>\n",
       "      <td>부산광역시 사상구 괘감로</td>\n",
       "      <td>37</td>\n",
       "      <td>부산광역시 사상구 괘감로 37</td>\n",
       "      <td>128.980455</td>\n",
       "      <td>35.159774</td>\n",
       "    </tr>\n",
       "    <tr>\n",
       "      <th>5</th>\n",
       "      <td>초밥왕</td>\n",
       "      <td>음식</td>\n",
       "      <td>일식/수산물</td>\n",
       "      <td>음식점-초밥전문</td>\n",
       "      <td>서울특별시</td>\n",
       "      <td>송파구</td>\n",
       "      <td>잠실6동</td>\n",
       "      <td>신천동</td>\n",
       "      <td>대지</td>\n",
       "      <td>7</td>\n",
       "      <td>서울특별시 송파구 신천동 7-28</td>\n",
       "      <td>서울특별시 송파구 올림픽로</td>\n",
       "      <td>293</td>\n",
       "      <td>서울특별시 송파구 올림픽로 293-19</td>\n",
       "      <td>127.102490</td>\n",
       "      <td>37.515149</td>\n",
       "    </tr>\n",
       "  </tbody>\n",
       "</table>\n",
       "</div>"
      ],
      "text/plain": [
       "             상호명 상권업종대분류명 상권업종중분류명     상권업종소분류명    시도명 시군구명  행정동명 법정동명 대지구분명  \\\n",
       "0         와라와라호프       음식     유흥주점        호프/맥주  서울특별시  강남구  대치1동  대치동    대지   \n",
       "1  커피빈코리아선릉로93길점       음식   커피점/카페  커피전문점/카페/다방  서울특별시  강남구  역삼1동  역삼동    대지   \n",
       "2           프로포즈       음식     유흥주점        호프/맥주  서울특별시  금천구  독산3동  독산동    대지   \n",
       "3       싱싱커피&토스트       음식    패스트푸드        토스트전문  부산광역시  사상구   괘법동  괘법동    대지   \n",
       "5            초밥왕       음식   일식/수산물     음식점-초밥전문  서울특별시  송파구  잠실6동  신천동    대지   \n",
       "\n",
       "   지번본번지                  지번주소               도로명  건물본번지  \\\n",
       "0    604     서울특별시 강남구 대치동 604   서울특별시 강남구 남부순환로   2933   \n",
       "1    696  서울특별시 강남구 역삼동 696-42  서울특별시 강남구 선릉로93길      6   \n",
       "2    162   서울특별시 금천구 독산동 162-1     서울특별시 금천구 가산로     34   \n",
       "3    578     부산광역시 사상구 괘법동 578     부산광역시 사상구 괘감로     37   \n",
       "5      7    서울특별시 송파구 신천동 7-28    서울특별시 송파구 올림픽로    293   \n",
       "\n",
       "                   도로명주소          경도         위도  \n",
       "0   서울특별시 강남구 남부순환로 2933  127.061026  37.493922  \n",
       "1     서울특별시 강남구 선릉로93길 6  127.047883  37.505675  \n",
       "2     서울특별시 금천구 가산로 34-6  126.899220  37.471711  \n",
       "3       부산광역시 사상구 괘감로 37  128.980455  35.159774  \n",
       "5  서울특별시 송파구 올림픽로 293-19  127.102490  37.515149  "
      ]
     },
     "execution_count": 37,
     "metadata": {},
     "output_type": "execute_result"
    }
   ],
   "source": [
    "df_food = df[df[\"상권업종대분류명\"] == \"음식\"].copy()\n",
    "df_food.head()"
   ]
  },
  {
   "cell_type": "code",
   "execution_count": 38,
   "metadata": {},
   "outputs": [
    {
     "data": {
      "text/html": [
       "<div>\n",
       "<style scoped>\n",
       "    .dataframe tbody tr th:only-of-type {\n",
       "        vertical-align: middle;\n",
       "    }\n",
       "\n",
       "    .dataframe tbody tr th {\n",
       "        vertical-align: top;\n",
       "    }\n",
       "\n",
       "    .dataframe thead th {\n",
       "        text-align: right;\n",
       "    }\n",
       "</style>\n",
       "<table border=\"1\" class=\"dataframe\">\n",
       "  <thead>\n",
       "    <tr style=\"text-align: right;\">\n",
       "      <th></th>\n",
       "      <th>상호명</th>\n",
       "      <th>상권업종대분류명</th>\n",
       "      <th>상권업종중분류명</th>\n",
       "      <th>상권업종소분류명</th>\n",
       "      <th>시도명</th>\n",
       "      <th>시군구명</th>\n",
       "      <th>행정동명</th>\n",
       "      <th>법정동명</th>\n",
       "      <th>대지구분명</th>\n",
       "      <th>지번본번지</th>\n",
       "      <th>지번주소</th>\n",
       "      <th>도로명</th>\n",
       "      <th>건물본번지</th>\n",
       "      <th>도로명주소</th>\n",
       "      <th>경도</th>\n",
       "      <th>위도</th>\n",
       "    </tr>\n",
       "  </thead>\n",
       "  <tbody>\n",
       "    <tr>\n",
       "      <th>0</th>\n",
       "      <td>와라와라호프</td>\n",
       "      <td>음식</td>\n",
       "      <td>유흥주점</td>\n",
       "      <td>호프/맥주</td>\n",
       "      <td>서울특별시</td>\n",
       "      <td>강남구</td>\n",
       "      <td>대치1동</td>\n",
       "      <td>대치동</td>\n",
       "      <td>대지</td>\n",
       "      <td>604</td>\n",
       "      <td>서울특별시 강남구 대치동 604</td>\n",
       "      <td>서울특별시 강남구 남부순환로</td>\n",
       "      <td>2933</td>\n",
       "      <td>서울특별시 강남구 남부순환로 2933</td>\n",
       "      <td>127.061026</td>\n",
       "      <td>37.493922</td>\n",
       "    </tr>\n",
       "    <tr>\n",
       "      <th>1</th>\n",
       "      <td>커피빈코리아선릉로93길점</td>\n",
       "      <td>음식</td>\n",
       "      <td>커피점/카페</td>\n",
       "      <td>커피전문점/카페/다방</td>\n",
       "      <td>서울특별시</td>\n",
       "      <td>강남구</td>\n",
       "      <td>역삼1동</td>\n",
       "      <td>역삼동</td>\n",
       "      <td>대지</td>\n",
       "      <td>696</td>\n",
       "      <td>서울특별시 강남구 역삼동 696-42</td>\n",
       "      <td>서울특별시 강남구 선릉로93길</td>\n",
       "      <td>6</td>\n",
       "      <td>서울특별시 강남구 선릉로93길 6</td>\n",
       "      <td>127.047883</td>\n",
       "      <td>37.505675</td>\n",
       "    </tr>\n",
       "    <tr>\n",
       "      <th>26</th>\n",
       "      <td>쉼터</td>\n",
       "      <td>음식</td>\n",
       "      <td>분식</td>\n",
       "      <td>라면김밥분식</td>\n",
       "      <td>서울특별시</td>\n",
       "      <td>강남구</td>\n",
       "      <td>삼성1동</td>\n",
       "      <td>삼성동</td>\n",
       "      <td>대지</td>\n",
       "      <td>159</td>\n",
       "      <td>서울특별시 강남구 삼성동 159</td>\n",
       "      <td>서울특별시 강남구 봉은사로</td>\n",
       "      <td>524</td>\n",
       "      <td>서울특별시 강남구 봉은사로 524</td>\n",
       "      <td>127.057100</td>\n",
       "      <td>37.512939</td>\n",
       "    </tr>\n",
       "    <tr>\n",
       "      <th>27</th>\n",
       "      <td>배제현의웰빙낙지한마리수제비</td>\n",
       "      <td>음식</td>\n",
       "      <td>일식/수산물</td>\n",
       "      <td>낙지/오징어</td>\n",
       "      <td>서울특별시</td>\n",
       "      <td>강남구</td>\n",
       "      <td>신사동</td>\n",
       "      <td>신사동</td>\n",
       "      <td>대지</td>\n",
       "      <td>512</td>\n",
       "      <td>서울특별시 강남구 신사동 512-13</td>\n",
       "      <td>서울특별시 강남구 강남대로152길</td>\n",
       "      <td>19</td>\n",
       "      <td>서울특별시 강남구 강남대로152길 19</td>\n",
       "      <td>127.020945</td>\n",
       "      <td>37.517574</td>\n",
       "    </tr>\n",
       "    <tr>\n",
       "      <th>38</th>\n",
       "      <td>타워광명내과의원</td>\n",
       "      <td>의료</td>\n",
       "      <td>병원</td>\n",
       "      <td>내과/외과</td>\n",
       "      <td>서울특별시</td>\n",
       "      <td>강남구</td>\n",
       "      <td>도곡2동</td>\n",
       "      <td>도곡동</td>\n",
       "      <td>대지</td>\n",
       "      <td>467</td>\n",
       "      <td>서울특별시 강남구 도곡동 467-14</td>\n",
       "      <td>서울특별시 강남구 언주로30길</td>\n",
       "      <td>39</td>\n",
       "      <td>서울특별시 강남구 언주로30길 39</td>\n",
       "      <td>127.053198</td>\n",
       "      <td>37.488742</td>\n",
       "    </tr>\n",
       "    <tr>\n",
       "      <th>...</th>\n",
       "      <td>...</td>\n",
       "      <td>...</td>\n",
       "      <td>...</td>\n",
       "      <td>...</td>\n",
       "      <td>...</td>\n",
       "      <td>...</td>\n",
       "      <td>...</td>\n",
       "      <td>...</td>\n",
       "      <td>...</td>\n",
       "      <td>...</td>\n",
       "      <td>...</td>\n",
       "      <td>...</td>\n",
       "      <td>...</td>\n",
       "      <td>...</td>\n",
       "      <td>...</td>\n",
       "      <td>...</td>\n",
       "    </tr>\n",
       "    <tr>\n",
       "      <th>573668</th>\n",
       "      <td>킹덤코리아</td>\n",
       "      <td>소매</td>\n",
       "      <td>음/식료품소매</td>\n",
       "      <td>청과물소매</td>\n",
       "      <td>서울특별시</td>\n",
       "      <td>강남구</td>\n",
       "      <td>역삼2동</td>\n",
       "      <td>역삼동</td>\n",
       "      <td>대지</td>\n",
       "      <td>720</td>\n",
       "      <td>서울특별시 강남구 역삼동 720-9</td>\n",
       "      <td>서울특별시 강남구 테헤란로38길</td>\n",
       "      <td>5</td>\n",
       "      <td>서울특별시 강남구 테헤란로38길 5</td>\n",
       "      <td>127.041635</td>\n",
       "      <td>37.501642</td>\n",
       "    </tr>\n",
       "    <tr>\n",
       "      <th>573672</th>\n",
       "      <td>심스틸러</td>\n",
       "      <td>소매</td>\n",
       "      <td>의복의류</td>\n",
       "      <td>캐쥬얼/스포츠의류</td>\n",
       "      <td>서울특별시</td>\n",
       "      <td>강남구</td>\n",
       "      <td>논현1동</td>\n",
       "      <td>논현동</td>\n",
       "      <td>대지</td>\n",
       "      <td>16</td>\n",
       "      <td>서울특별시 강남구 논현동 16-40</td>\n",
       "      <td>서울특별시 강남구 강남대로146길</td>\n",
       "      <td>7</td>\n",
       "      <td>서울특별시 강남구 강남대로146길 7</td>\n",
       "      <td>127.020698</td>\n",
       "      <td>37.514833</td>\n",
       "    </tr>\n",
       "    <tr>\n",
       "      <th>573673</th>\n",
       "      <td>밀리온골프</td>\n",
       "      <td>소매</td>\n",
       "      <td>의복의류</td>\n",
       "      <td>캐쥬얼/스포츠의류</td>\n",
       "      <td>서울특별시</td>\n",
       "      <td>강남구</td>\n",
       "      <td>압구정동</td>\n",
       "      <td>신사동</td>\n",
       "      <td>대지</td>\n",
       "      <td>648</td>\n",
       "      <td>서울특별시 강남구 신사동 648-8</td>\n",
       "      <td>서울특별시 강남구 도산대로49길</td>\n",
       "      <td>21</td>\n",
       "      <td>서울특별시 강남구 도산대로49길 21</td>\n",
       "      <td>127.036900</td>\n",
       "      <td>37.524247</td>\n",
       "    </tr>\n",
       "    <tr>\n",
       "      <th>573674</th>\n",
       "      <td>헤리티크뉴욕</td>\n",
       "      <td>소매</td>\n",
       "      <td>의복의류</td>\n",
       "      <td>예복/웨딩드레스</td>\n",
       "      <td>서울특별시</td>\n",
       "      <td>강남구</td>\n",
       "      <td>압구정동</td>\n",
       "      <td>신사동</td>\n",
       "      <td>대지</td>\n",
       "      <td>650</td>\n",
       "      <td>서울특별시 강남구 신사동 650-7</td>\n",
       "      <td>서울특별시 강남구 도산대로45길</td>\n",
       "      <td>16</td>\n",
       "      <td>서울특별시 강남구 도산대로45길 16-9</td>\n",
       "      <td>127.036036</td>\n",
       "      <td>37.523645</td>\n",
       "    </tr>\n",
       "    <tr>\n",
       "      <th>573677</th>\n",
       "      <td>오즈아레나PC방</td>\n",
       "      <td>관광/여가/오락</td>\n",
       "      <td>PC/오락/당구/볼링등</td>\n",
       "      <td>인터넷PC방</td>\n",
       "      <td>서울특별시</td>\n",
       "      <td>강남구</td>\n",
       "      <td>논현1동</td>\n",
       "      <td>논현동</td>\n",
       "      <td>대지</td>\n",
       "      <td>165</td>\n",
       "      <td>서울특별시 강남구 논현동 165-8</td>\n",
       "      <td>서울특별시 강남구 강남대로</td>\n",
       "      <td>492</td>\n",
       "      <td>서울특별시 강남구 강남대로 492</td>\n",
       "      <td>127.024102</td>\n",
       "      <td>37.506202</td>\n",
       "    </tr>\n",
       "  </tbody>\n",
       "</table>\n",
       "<p>47080 rows × 16 columns</p>\n",
       "</div>"
      ],
      "text/plain": [
       "                   상호명  상권업종대분류명      상권업종중분류명     상권업종소분류명    시도명 시군구명  행정동명  \\\n",
       "0               와라와라호프        음식          유흥주점        호프/맥주  서울특별시  강남구  대치1동   \n",
       "1        커피빈코리아선릉로93길점        음식        커피점/카페  커피전문점/카페/다방  서울특별시  강남구  역삼1동   \n",
       "26                  쉼터        음식            분식       라면김밥분식  서울특별시  강남구  삼성1동   \n",
       "27      배제현의웰빙낙지한마리수제비        음식        일식/수산물       낙지/오징어  서울특별시  강남구   신사동   \n",
       "38            타워광명내과의원        의료            병원        내과/외과  서울특별시  강남구  도곡2동   \n",
       "...                ...       ...           ...          ...    ...  ...   ...   \n",
       "573668           킹덤코리아        소매       음/식료품소매        청과물소매  서울특별시  강남구  역삼2동   \n",
       "573672            심스틸러        소매          의복의류    캐쥬얼/스포츠의류  서울특별시  강남구  논현1동   \n",
       "573673           밀리온골프        소매          의복의류    캐쥬얼/스포츠의류  서울특별시  강남구  압구정동   \n",
       "573674          헤리티크뉴욕        소매          의복의류     예복/웨딩드레스  서울특별시  강남구  압구정동   \n",
       "573677        오즈아레나PC방  관광/여가/오락  PC/오락/당구/볼링등       인터넷PC방  서울특별시  강남구  논현1동   \n",
       "\n",
       "       법정동명 대지구분명  지번본번지                  지번주소                 도로명  건물본번지  \\\n",
       "0       대치동    대지    604     서울특별시 강남구 대치동 604     서울특별시 강남구 남부순환로   2933   \n",
       "1       역삼동    대지    696  서울특별시 강남구 역삼동 696-42    서울특별시 강남구 선릉로93길      6   \n",
       "26      삼성동    대지    159     서울특별시 강남구 삼성동 159      서울특별시 강남구 봉은사로    524   \n",
       "27      신사동    대지    512  서울특별시 강남구 신사동 512-13  서울특별시 강남구 강남대로152길     19   \n",
       "38      도곡동    대지    467  서울특별시 강남구 도곡동 467-14    서울특별시 강남구 언주로30길     39   \n",
       "...     ...   ...    ...                   ...                 ...    ...   \n",
       "573668  역삼동    대지    720   서울특별시 강남구 역삼동 720-9   서울특별시 강남구 테헤란로38길      5   \n",
       "573672  논현동    대지     16   서울특별시 강남구 논현동 16-40  서울특별시 강남구 강남대로146길      7   \n",
       "573673  신사동    대지    648   서울특별시 강남구 신사동 648-8   서울특별시 강남구 도산대로49길     21   \n",
       "573674  신사동    대지    650   서울특별시 강남구 신사동 650-7   서울특별시 강남구 도산대로45길     16   \n",
       "573677  논현동    대지    165   서울특별시 강남구 논현동 165-8      서울특별시 강남구 강남대로    492   \n",
       "\n",
       "                         도로명주소          경도         위도  \n",
       "0         서울특별시 강남구 남부순환로 2933  127.061026  37.493922  \n",
       "1           서울특별시 강남구 선릉로93길 6  127.047883  37.505675  \n",
       "26          서울특별시 강남구 봉은사로 524  127.057100  37.512939  \n",
       "27       서울특별시 강남구 강남대로152길 19  127.020945  37.517574  \n",
       "38         서울특별시 강남구 언주로30길 39  127.053198  37.488742  \n",
       "...                        ...         ...        ...  \n",
       "573668     서울특별시 강남구 테헤란로38길 5  127.041635  37.501642  \n",
       "573672    서울특별시 강남구 강남대로146길 7  127.020698  37.514833  \n",
       "573673    서울특별시 강남구 도산대로49길 21  127.036900  37.524247  \n",
       "573674  서울특별시 강남구 도산대로45길 16-9  127.036036  37.523645  \n",
       "573677      서울특별시 강남구 강남대로 492  127.024102  37.506202  \n",
       "\n",
       "[47080 rows x 16 columns]"
      ]
     },
     "execution_count": 38,
     "metadata": {},
     "output_type": "execute_result"
    }
   ],
   "source": [
    "df[df[\"시군구명\"] == \"강남구\"]"
   ]
  },
  {
   "cell_type": "code",
   "execution_count": 39,
   "metadata": {},
   "outputs": [
    {
     "data": {
      "text/plain": [
       "0          True\n",
       "1          True\n",
       "2          True\n",
       "3          True\n",
       "4         False\n",
       "          ...  \n",
       "573675     True\n",
       "573676    False\n",
       "573677    False\n",
       "573678    False\n",
       "573679    False\n",
       "Name: 상권업종대분류명, Length: 573680, dtype: bool"
      ]
     },
     "execution_count": 39,
     "metadata": {},
     "output_type": "execute_result"
    }
   ],
   "source": [
    "df[\"상권업종대분류명\"] == \"음식\""
   ]
  },
  {
   "cell_type": "code",
   "execution_count": 40,
   "metadata": {},
   "outputs": [
    {
     "data": {
      "text/plain": [
       "(132889, 16)"
      ]
     },
     "execution_count": 40,
     "metadata": {},
     "output_type": "execute_result"
    }
   ],
   "source": [
    "df_seoul_food = df[(df[\"시도명\"] == \"서울특별시\") & (df[\"상권업종대분류명\"] == \"음식\")].copy()\n",
    "df_seoul_food.shape"
   ]
  },
  {
   "cell_type": "code",
   "execution_count": 41,
   "metadata": {},
   "outputs": [
    {
     "data": {
      "text/plain": [
       "시군구명  상권업종중분류명\n",
       "강남구   기타음식업         47\n",
       "      닭/오리요리       539\n",
       "      별식/퓨전요리      341\n",
       "      부페            63\n",
       "      분식          1197\n",
       "                  ... \n",
       "중랑구   제과제빵떡케익      160\n",
       "      중식            78\n",
       "      커피점/카페       311\n",
       "      패스트푸드        127\n",
       "      한식          1251\n",
       "Name: 상호명, Length: 348, dtype: int64"
      ]
     },
     "execution_count": 41,
     "metadata": {},
     "output_type": "execute_result"
    }
   ],
   "source": [
    "food_gu = df_seoul_food.groupby([\"시군구명\",\"상권업종중분류명\"])[\"상호명\"].count()\n",
    "food_gu"
   ]
  },
  {
   "cell_type": "code",
   "execution_count": 42,
   "metadata": {},
   "outputs": [
    {
     "data": {
      "text/plain": [
       "<matplotlib.axes._subplots.AxesSubplot at 0x1cf32ab82c8>"
      ]
     },
     "execution_count": 42,
     "metadata": {},
     "output_type": "execute_result"
    },
    {
     "data": {
      "image/png": "[encoded data removed]",
      "text/plain": [
       "<Figure size 432x288 with 1 Axes>"
      ]
     },
     "metadata": {
      "needs_background": "light"
     },
     "output_type": "display_data"
    }
   ],
   "source": [
    "food_gu.unstack().loc[\"강남구\"].plot.bar()"
   ]
  },
  {
   "cell_type": "code",
   "execution_count": 43,
   "metadata": {},
   "outputs": [
    {
     "data": {
      "text/html": [
       "<div>\n",
       "<style scoped>\n",
       "    .dataframe tbody tr th:only-of-type {\n",
       "        vertical-align: middle;\n",
       "    }\n",
       "\n",
       "    .dataframe tbody tr th {\n",
       "        vertical-align: top;\n",
       "    }\n",
       "\n",
       "    .dataframe thead th {\n",
       "        text-align: right;\n",
       "    }\n",
       "</style>\n",
       "<table border=\"1\" class=\"dataframe\">\n",
       "  <thead>\n",
       "    <tr style=\"text-align: right;\">\n",
       "      <th></th>\n",
       "      <th>시군구명</th>\n",
       "      <th>상권업종중분류명</th>\n",
       "      <th>상호수</th>\n",
       "    </tr>\n",
       "  </thead>\n",
       "  <tbody>\n",
       "    <tr>\n",
       "      <th>0</th>\n",
       "      <td>강남구</td>\n",
       "      <td>기타음식업</td>\n",
       "      <td>47</td>\n",
       "    </tr>\n",
       "    <tr>\n",
       "      <th>1</th>\n",
       "      <td>강남구</td>\n",
       "      <td>닭/오리요리</td>\n",
       "      <td>539</td>\n",
       "    </tr>\n",
       "    <tr>\n",
       "      <th>2</th>\n",
       "      <td>강남구</td>\n",
       "      <td>별식/퓨전요리</td>\n",
       "      <td>341</td>\n",
       "    </tr>\n",
       "    <tr>\n",
       "      <th>3</th>\n",
       "      <td>강남구</td>\n",
       "      <td>부페</td>\n",
       "      <td>63</td>\n",
       "    </tr>\n",
       "    <tr>\n",
       "      <th>4</th>\n",
       "      <td>강남구</td>\n",
       "      <td>분식</td>\n",
       "      <td>1197</td>\n",
       "    </tr>\n",
       "  </tbody>\n",
       "</table>\n",
       "</div>"
      ],
      "text/plain": [
       "  시군구명 상권업종중분류명   상호수\n",
       "0  강남구    기타음식업    47\n",
       "1  강남구   닭/오리요리   539\n",
       "2  강남구  별식/퓨전요리   341\n",
       "3  강남구       부페    63\n",
       "4  강남구       분식  1197"
      ]
     },
     "execution_count": 43,
     "metadata": {},
     "output_type": "execute_result"
    }
   ],
   "source": [
    "food = food_gu.reset_index()\n",
    "food = food.rename(columns={\"상호명\":\"상호수\"})\n",
    "food.head()"
   ]
  },
  {
   "cell_type": "code",
   "execution_count": 44,
   "metadata": {},
   "outputs": [
    {
     "data": {
      "text/plain": [
       "<matplotlib.axes._subplots.AxesSubplot at 0x1cf32b5ed88>"
      ]
     },
     "execution_count": 44,
     "metadata": {},
     "output_type": "execute_result"
    },
    {
     "data": {
      "image/png": "[encoded data removed]",
      "text/plain": [
       "<Figure size 1080x288 with 1 Axes>"
      ]
     },
     "metadata": {
      "needs_background": "light"
     },
     "output_type": "display_data"
    }
   ],
   "source": [
    "plt.figure(figsize=(15,4))\n",
    "sns.barplot(data=food, x=\"시군구명\", y=\"상호수\",hue =\"상권업종중분류명\")"
   ]
  },
  {
   "cell_type": "code",
   "execution_count": 45,
   "metadata": {},
   "outputs": [
    {
     "data": {
      "text/plain": [
       "<seaborn.axisgrid.FacetGrid at 0x1cf4dae0fc8>"
      ]
     },
     "execution_count": 45,
     "metadata": {},
     "output_type": "execute_result"
    },
    {
     "data": {
      "image/png": "[encoded data removed]",
      "text/plain": [
       "<Figure size 1440x2520 with 25 Axes>"
      ]
     },
     "metadata": {
      "needs_background": "light"
     },
     "output_type": "display_data"
    }
   ],
   "source": [
    "sns.catplot(data=food, x=\"상권업종중분류명\", y=\"상호수\",kind=\"bar\",col=\"시군구명\", col_wrap=4)"
   ]
  },
  {
   "cell_type": "code",
   "execution_count": 46,
   "metadata": {},
   "outputs": [
    {
     "data": {
      "text/plain": [
       "array(['음식', '생활서비스', '소매', '의료', '학문/교육', '관광/여가/오락', '부동산', '숙박', '스포츠'],\n",
       "      dtype=object)"
      ]
     },
     "execution_count": 46,
     "metadata": {},
     "output_type": "execute_result"
    }
   ],
   "source": [
    "df[\"상권업종대분류명\"].unique()"
   ]
  },
  {
   "cell_type": "code",
   "execution_count": 47,
   "metadata": {},
   "outputs": [],
   "source": [
    "df_academy = df[(df[\"시도명\"] == \"서울특별시\") & (df[\"상권업종대분류명\"] == \"학문/교육\")].copy()\n",
    "df_academy[\"지번본번지\"]=df_academy[\"지번본번지\"].astype(int)"
   ]
  },
  {
   "cell_type": "code",
   "execution_count": 48,
   "metadata": {},
   "outputs": [
    {
     "data": {
      "text/html": [
       "<div>\n",
       "<style scoped>\n",
       "    .dataframe tbody tr th:only-of-type {\n",
       "        vertical-align: middle;\n",
       "    }\n",
       "\n",
       "    .dataframe tbody tr th {\n",
       "        vertical-align: top;\n",
       "    }\n",
       "\n",
       "    .dataframe thead th {\n",
       "        text-align: right;\n",
       "    }\n",
       "</style>\n",
       "<table border=\"1\" class=\"dataframe\">\n",
       "  <thead>\n",
       "    <tr style=\"text-align: right;\">\n",
       "      <th></th>\n",
       "      <th>상호명</th>\n",
       "      <th>상권업종대분류명</th>\n",
       "      <th>상권업종중분류명</th>\n",
       "      <th>상권업종소분류명</th>\n",
       "      <th>시도명</th>\n",
       "      <th>시군구명</th>\n",
       "      <th>행정동명</th>\n",
       "      <th>법정동명</th>\n",
       "      <th>대지구분명</th>\n",
       "      <th>지번본번지</th>\n",
       "      <th>지번주소</th>\n",
       "      <th>도로명</th>\n",
       "      <th>건물본번지</th>\n",
       "      <th>도로명주소</th>\n",
       "      <th>경도</th>\n",
       "      <th>위도</th>\n",
       "    </tr>\n",
       "  </thead>\n",
       "  <tbody>\n",
       "    <tr>\n",
       "      <th>85</th>\n",
       "      <td>GIA보석교육원</td>\n",
       "      <td>학문/교육</td>\n",
       "      <td>학원-자격/국가고시</td>\n",
       "      <td>학원-보석감정</td>\n",
       "      <td>서울특별시</td>\n",
       "      <td>강남구</td>\n",
       "      <td>압구정동</td>\n",
       "      <td>신사동</td>\n",
       "      <td>대지</td>\n",
       "      <td>639</td>\n",
       "      <td>서울특별시 강남구 신사동 639-3</td>\n",
       "      <td>서울특별시 강남구 압구정로</td>\n",
       "      <td>320</td>\n",
       "      <td>서울특별시 강남구 압구정로 320</td>\n",
       "      <td>127.036437</td>\n",
       "      <td>37.528532</td>\n",
       "    </tr>\n",
       "    <tr>\n",
       "      <th>101</th>\n",
       "      <td>안재형영어</td>\n",
       "      <td>학문/교육</td>\n",
       "      <td>학원-어학</td>\n",
       "      <td>학원-외국어/어학</td>\n",
       "      <td>서울특별시</td>\n",
       "      <td>양천구</td>\n",
       "      <td>목5동</td>\n",
       "      <td>목동</td>\n",
       "      <td>대지</td>\n",
       "      <td>905</td>\n",
       "      <td>서울특별시 양천구 목동 905-34</td>\n",
       "      <td>서울특별시 양천구 목동서로</td>\n",
       "      <td>133</td>\n",
       "      <td>서울특별시 양천구 목동서로 133-2</td>\n",
       "      <td>126.875973</td>\n",
       "      <td>37.531592</td>\n",
       "    </tr>\n",
       "    <tr>\n",
       "      <th>121</th>\n",
       "      <td>정아트</td>\n",
       "      <td>학문/교육</td>\n",
       "      <td>학원-음악미술무용</td>\n",
       "      <td>서예/서화/미술</td>\n",
       "      <td>서울특별시</td>\n",
       "      <td>강서구</td>\n",
       "      <td>염창동</td>\n",
       "      <td>염창동</td>\n",
       "      <td>대지</td>\n",
       "      <td>184</td>\n",
       "      <td>서울특별시 강서구 염창동 184-8</td>\n",
       "      <td>서울특별시 강서구 양천로73가길</td>\n",
       "      <td>21</td>\n",
       "      <td>서울특별시 강서구 양천로73가길 21</td>\n",
       "      <td>126.873645</td>\n",
       "      <td>37.550924</td>\n",
       "    </tr>\n",
       "    <tr>\n",
       "      <th>126</th>\n",
       "      <td>경찰태권도</td>\n",
       "      <td>학문/교육</td>\n",
       "      <td>학원-예능취미체육</td>\n",
       "      <td>태권도장</td>\n",
       "      <td>서울특별시</td>\n",
       "      <td>성북구</td>\n",
       "      <td>길음1동</td>\n",
       "      <td>길음동</td>\n",
       "      <td>대지</td>\n",
       "      <td>1283</td>\n",
       "      <td>서울특별시 성북구 길음동 1283-4</td>\n",
       "      <td>서울특별시 성북구 길음로</td>\n",
       "      <td>20</td>\n",
       "      <td>서울특별시 성북구 길음로 20</td>\n",
       "      <td>127.023020</td>\n",
       "      <td>37.604749</td>\n",
       "    </tr>\n",
       "    <tr>\n",
       "      <th>134</th>\n",
       "      <td>아트인스튜디오</td>\n",
       "      <td>학문/교육</td>\n",
       "      <td>학원-음악미술무용</td>\n",
       "      <td>서예/서화/미술</td>\n",
       "      <td>서울특별시</td>\n",
       "      <td>강남구</td>\n",
       "      <td>역삼1동</td>\n",
       "      <td>역삼동</td>\n",
       "      <td>대지</td>\n",
       "      <td>818</td>\n",
       "      <td>서울특별시 강남구 역삼동 818-1</td>\n",
       "      <td>서울특별시 강남구 강남대로96길</td>\n",
       "      <td>12</td>\n",
       "      <td>서울특별시 강남구 강남대로96길 12</td>\n",
       "      <td>127.028054</td>\n",
       "      <td>37.499729</td>\n",
       "    </tr>\n",
       "  </tbody>\n",
       "</table>\n",
       "</div>"
      ],
      "text/plain": [
       "          상호명 상권업종대분류명    상권업종중분류명   상권업종소분류명    시도명 시군구명  행정동명 법정동명 대지구분명  \\\n",
       "85   GIA보석교육원    학문/교육  학원-자격/국가고시    학원-보석감정  서울특별시  강남구  압구정동  신사동    대지   \n",
       "101     안재형영어    학문/교육       학원-어학  학원-외국어/어학  서울특별시  양천구   목5동   목동    대지   \n",
       "121       정아트    학문/교육   학원-음악미술무용   서예/서화/미술  서울특별시  강서구   염창동  염창동    대지   \n",
       "126     경찰태권도    학문/교육   학원-예능취미체육       태권도장  서울특별시  성북구  길음1동  길음동    대지   \n",
       "134   아트인스튜디오    학문/교육   학원-음악미술무용   서예/서화/미술  서울특별시  강남구  역삼1동  역삼동    대지   \n",
       "\n",
       "     지번본번지                  지번주소                도로명  건물본번지  \\\n",
       "85     639   서울특별시 강남구 신사동 639-3     서울특별시 강남구 압구정로    320   \n",
       "101    905   서울특별시 양천구 목동 905-34     서울특별시 양천구 목동서로    133   \n",
       "121    184   서울특별시 강서구 염창동 184-8  서울특별시 강서구 양천로73가길     21   \n",
       "126   1283  서울특별시 성북구 길음동 1283-4      서울특별시 성북구 길음로     20   \n",
       "134    818   서울특별시 강남구 역삼동 818-1  서울특별시 강남구 강남대로96길     12   \n",
       "\n",
       "                    도로명주소          경도         위도  \n",
       "85     서울특별시 강남구 압구정로 320  127.036437  37.528532  \n",
       "101  서울특별시 양천구 목동서로 133-2  126.875973  37.531592  \n",
       "121  서울특별시 강서구 양천로73가길 21  126.873645  37.550924  \n",
       "126      서울특별시 성북구 길음로 20  127.023020  37.604749  \n",
       "134  서울특별시 강남구 강남대로96길 12  127.028054  37.499729  "
      ]
     },
     "execution_count": 48,
     "metadata": {},
     "output_type": "execute_result"
    }
   ],
   "source": [
    "df_academy.head()"
   ]
  },
  {
   "cell_type": "code",
   "execution_count": 49,
   "metadata": {},
   "outputs": [
    {
     "data": {
      "text/plain": [
       "점프셈교실      1659\n",
       "해법수학         57\n",
       "윤선생영어교실      34\n",
       "뮤엠영어         27\n",
       "해법영어교실       24\n",
       "눈높이          22\n",
       "해동검도         22\n",
       "삼성영어         21\n",
       "구몬학습         20\n",
       "경희대태권도       19\n",
       "Name: 상호명, dtype: int64"
      ]
     },
     "execution_count": 49,
     "metadata": {},
     "output_type": "execute_result"
    }
   ],
   "source": [
    "df_academy[\"상호명\"].value_counts().head(10)"
   ]
  },
  {
   "cell_type": "code",
   "execution_count": 50,
   "metadata": {},
   "outputs": [
    {
     "data": {
      "text/plain": [
       "강남구     4005\n",
       "서초구     2103\n",
       "양천구     1881\n",
       "광진구     1848\n",
       "송파구     1797\n",
       "강동구     1585\n",
       "노원구     1582\n",
       "강서구     1498\n",
       "은평구     1333\n",
       "관악구     1313\n",
       "성북구     1246\n",
       "구로구     1140\n",
       "동대문구    1051\n",
       "동작구     1050\n",
       "마포구     1007\n",
       "영등포구     984\n",
       "도봉구      931\n",
       "중랑구      884\n",
       "서대문구     773\n",
       "성동구      742\n",
       "금천구      701\n",
       "종로구      638\n",
       "강북구      513\n",
       "용산구      491\n",
       "중구       413\n",
       "Name: 시군구명, dtype: int64"
      ]
     },
     "execution_count": 50,
     "metadata": {},
     "output_type": "execute_result"
    }
   ],
   "source": [
    "df_academy[\"시군구명\"].value_counts()"
   ]
  },
  {
   "cell_type": "code",
   "execution_count": 51,
   "metadata": {},
   "outputs": [
    {
     "data": {
      "text/plain": [
       "학원-입시          7509\n",
       "학원(종합)         4561\n",
       "어린이집           4395\n",
       "학원-외국어/어학      3544\n",
       "피아노/바이올린/기타    2868\n",
       "서예/서화/미술       1595\n",
       "독서실            1096\n",
       "고시원            1062\n",
       "학원-기타           677\n",
       "태권도장            610\n",
       "학습지보급           430\n",
       "학원-어린이영어        319\n",
       "컴퓨터학원           270\n",
       "학원-스포츠/재즈댄스     269\n",
       "학원-무용           220\n",
       "놀이방             139\n",
       "학원-주산암산부기속셈     122\n",
       "유아교육기관기타        107\n",
       "학원-미용           106\n",
       "학원-배우/탤런트       102\n",
       "합기도장             96\n",
       "검도도장             95\n",
       "실내놀이터-유아         84\n",
       "학원-요리            78\n",
       "학원-간호조무사         76\n",
       "학원/국가고시          70\n",
       "학원-사교춤           54\n",
       "유도장              49\n",
       "학원-심리변론          46\n",
       "학원-국악            45\n",
       "Name: 상권업종소분류명, dtype: int64"
      ]
     },
     "execution_count": 51,
     "metadata": {},
     "output_type": "execute_result"
    }
   ],
   "source": [
    "academy_count = df_academy[\"상권업종소분류명\"].value_counts().head(30)\n",
    "academy_count"
   ]
  },
  {
   "cell_type": "code",
   "execution_count": 52,
   "metadata": {},
   "outputs": [
    {
     "data": {
      "text/plain": [
       "학원-입시          7509\n",
       "학원(종합)         4561\n",
       "어린이집           4395\n",
       "학원-외국어/어학      3544\n",
       "피아노/바이올린/기타    2868\n",
       "서예/서화/미술       1595\n",
       "독서실            1096\n",
       "고시원            1062\n",
       "Name: 상권업종소분류명, dtype: int64"
      ]
     },
     "execution_count": 52,
     "metadata": {},
     "output_type": "execute_result"
    }
   ],
   "source": [
    "academy_count_1000 = academy_count[academy_count > 1000]\n",
    "academy_count_1000"
   ]
  },
  {
   "cell_type": "code",
   "execution_count": 53,
   "metadata": {},
   "outputs": [
    {
     "data": {
      "text/plain": [
       "상권업종소분류명\n",
       "검도도장          9\n",
       "고시원         139\n",
       "놀이방           8\n",
       "독서실         125\n",
       "서예/서화/미술    219\n",
       "           ... \n",
       "학원-편입         5\n",
       "학원-피부미용       3\n",
       "학원-한복기술       1\n",
       "학원/국가고시       5\n",
       "합기도장          4\n",
       "Name: 상호명, Length: 73, dtype: int64"
      ]
     },
     "execution_count": 53,
     "metadata": {},
     "output_type": "execute_result"
    }
   ],
   "source": [
    "academy_group = df_academy.groupby([\"시군구명\", \"상권업종소분류명\"])[\"상호명\"].count()\n",
    "academy_group.loc[\"강남구\"]"
   ]
  },
  {
   "cell_type": "code",
   "execution_count": 54,
   "metadata": {},
   "outputs": [
    {
     "data": {
      "text/html": [
       "<div>\n",
       "<style scoped>\n",
       "    .dataframe tbody tr th:only-of-type {\n",
       "        vertical-align: middle;\n",
       "    }\n",
       "\n",
       "    .dataframe tbody tr th {\n",
       "        vertical-align: top;\n",
       "    }\n",
       "\n",
       "    .dataframe thead th {\n",
       "        text-align: right;\n",
       "    }\n",
       "</style>\n",
       "<table border=\"1\" class=\"dataframe\">\n",
       "  <thead>\n",
       "    <tr style=\"text-align: right;\">\n",
       "      <th></th>\n",
       "      <th>시군구명</th>\n",
       "      <th>상권업종소분류명</th>\n",
       "      <th>상호명</th>\n",
       "    </tr>\n",
       "  </thead>\n",
       "  <tbody>\n",
       "    <tr>\n",
       "      <th>0</th>\n",
       "      <td>강남구</td>\n",
       "      <td>검도도장</td>\n",
       "      <td>9</td>\n",
       "    </tr>\n",
       "    <tr>\n",
       "      <th>1</th>\n",
       "      <td>강남구</td>\n",
       "      <td>고시원</td>\n",
       "      <td>139</td>\n",
       "    </tr>\n",
       "    <tr>\n",
       "      <th>2</th>\n",
       "      <td>강남구</td>\n",
       "      <td>놀이방</td>\n",
       "      <td>8</td>\n",
       "    </tr>\n",
       "    <tr>\n",
       "      <th>3</th>\n",
       "      <td>강남구</td>\n",
       "      <td>독서실</td>\n",
       "      <td>125</td>\n",
       "    </tr>\n",
       "    <tr>\n",
       "      <th>4</th>\n",
       "      <td>강남구</td>\n",
       "      <td>서예/서화/미술</td>\n",
       "      <td>219</td>\n",
       "    </tr>\n",
       "    <tr>\n",
       "      <th>...</th>\n",
       "      <td>...</td>\n",
       "      <td>...</td>\n",
       "      <td>...</td>\n",
       "    </tr>\n",
       "    <tr>\n",
       "      <th>1113</th>\n",
       "      <td>중랑구</td>\n",
       "      <td>학원-입시</td>\n",
       "      <td>172</td>\n",
       "    </tr>\n",
       "    <tr>\n",
       "      <th>1114</th>\n",
       "      <td>중랑구</td>\n",
       "      <td>학원-주산암산부기속셈</td>\n",
       "      <td>7</td>\n",
       "    </tr>\n",
       "    <tr>\n",
       "      <th>1115</th>\n",
       "      <td>중랑구</td>\n",
       "      <td>학원-펜글씨/한문</td>\n",
       "      <td>1</td>\n",
       "    </tr>\n",
       "    <tr>\n",
       "      <th>1116</th>\n",
       "      <td>중랑구</td>\n",
       "      <td>학원/국가고시</td>\n",
       "      <td>2</td>\n",
       "    </tr>\n",
       "    <tr>\n",
       "      <th>1117</th>\n",
       "      <td>중랑구</td>\n",
       "      <td>합기도장</td>\n",
       "      <td>2</td>\n",
       "    </tr>\n",
       "  </tbody>\n",
       "</table>\n",
       "<p>1118 rows × 3 columns</p>\n",
       "</div>"
      ],
      "text/plain": [
       "     시군구명     상권업종소분류명  상호명\n",
       "0     강남구         검도도장    9\n",
       "1     강남구          고시원  139\n",
       "2     강남구          놀이방    8\n",
       "3     강남구          독서실  125\n",
       "4     강남구     서예/서화/미술  219\n",
       "...   ...          ...  ...\n",
       "1113  중랑구        학원-입시  172\n",
       "1114  중랑구  학원-주산암산부기속셈    7\n",
       "1115  중랑구    학원-펜글씨/한문    1\n",
       "1116  중랑구      학원/국가고시    2\n",
       "1117  중랑구         합기도장    2\n",
       "\n",
       "[1118 rows x 3 columns]"
      ]
     },
     "execution_count": 54,
     "metadata": {},
     "output_type": "execute_result"
    }
   ],
   "source": [
    "t = academy_group.reset_index()\n",
    "t.rename(columns={\"상호명\":\"상호수\"})\n",
    "t"
   ]
  },
  {
   "cell_type": "code",
   "execution_count": 56,
   "metadata": {},
   "outputs": [
    {
     "data": {
      "text/plain": [
       "학원-입시          7509\n",
       "학원(종합)         4561\n",
       "어린이집           4395\n",
       "학원-외국어/어학      3544\n",
       "피아노/바이올린/기타    2868\n",
       "서예/서화/미술       1595\n",
       "독서실            1096\n",
       "고시원            1062\n",
       "Name: 상권업종소분류명, dtype: int64"
      ]
     },
     "execution_count": 56,
     "metadata": {},
     "output_type": "execute_result"
    }
   ],
   "source": [
    "academy_count_1000"
   ]
  },
  {
   "cell_type": "code",
   "execution_count": null,
   "metadata": {},
   "outputs": [],
   "source": []
  }
 ],
 "metadata": {
  "kernelspec": {
   "display_name": "Python 3",
   "language": "python",
   "name": "python3"
  },
  "language_info": {
   "codemirror_mode": {
    "name": "ipython",
    "version": 3
   },
   "file_extension": ".py",
   "mimetype": "text/x-python",
   "name": "python",
   "nbconvert_exporter": "python",
   "pygments_lexer": "ipython3",
   "version": "3.7.6"
  }
 },
 "nbformat": 4,
 "nbformat_minor": 4
}
