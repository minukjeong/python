{
 "cells": [
  {
   "cell_type": "markdown",
   "metadata": {},
   "source": [
    "#  설치"
   ]
  },
  {
   "cell_type": "code",
   "execution_count": 3,
   "metadata": {},
   "outputs": [],
   "source": [
    "import cvlib as cv\n",
    "from cvlib.object_detection import draw_bbox\n",
    "import cv2"
   ]
  },
  {
   "cell_type": "markdown",
   "metadata": {},
   "source": [
    "# 웹캠 실행"
   ]
  },
  {
   "cell_type": "code",
   "execution_count": null,
   "metadata": {},
   "outputs": [],
   "source": [
    "# open webcam (웹캠 열기)\n",
    "webcam = cv2.VideoCapture(0)\n",
    "\n",
    "if not webcam.isOpened():\n",
    "    print(\"Could not open webcam\")\n",
    "    exit()    "
   ]
  },
  {
   "cell_type": "markdown",
   "metadata": {},
   "source": [
    "# 바운딩 박스 만들기"
   ]
  },
  {
   "cell_type": "code",
   "execution_count": null,
   "metadata": {},
   "outputs": [],
   "source": [
    "# loop through frames\n",
    "while webcam.isOpened():\n",
    "\n",
    "    # read frame from webcam \n",
    "    status, frame = webcam.read()\n",
    "\n",
    "    if not status:\n",
    "        break\n",
    "\n",
    "    # apply object detection (물체 검출)\n",
    "    bbox, label, conf = cv.detect_common_objects(frame, enable_gpu = True)\n",
    "\n",
    "    print(bbox, label, conf)\n",
    "\n",
    "    # draw bounding box over detected objects (검출된 물체 가장자리에 바운딩 박스 그리기)\n",
    "    out = draw_bbox(frame, bbox, label, conf, write_conf=True)\n",
    "\n",
    "    # display output\n",
    "    cv2.imshow(\"Real-time object detection\", out)\n",
    "\n",
    "    # press \"Q\" to stop\n",
    "    if cv2.waitKey(1) & 0xFF == ord('q'):\n",
    "        break   "
   ]
  },
  {
   "cell_type": "markdown",
   "metadata": {},
   "source": [
    "# 실행"
   ]
  },
  {
   "cell_type": "code",
   "execution_count": null,
   "metadata": {},
   "outputs": [
    {
     "name": "stderr",
     "output_type": "stream",
     "text": [
      "C:\\ProgramData\\Anaconda3\\lib\\site-packages\\tensorflow\\python\\framework\\dtypes.py:516: FutureWarning: Passing (type, 1) or '1type' as a synonym of type is deprecated; in a future version of numpy, it will be understood as (type, (1,)) / '(1,)type'.\n",
      "  _np_qint8 = np.dtype([(\"qint8\", np.int8, 1)])\n",
      "C:\\ProgramData\\Anaconda3\\lib\\site-packages\\tensorflow\\python\\framework\\dtypes.py:517: FutureWarning: Passing (type, 1) or '1type' as a synonym of type is deprecated; in a future version of numpy, it will be understood as (type, (1,)) / '(1,)type'.\n",
      "  _np_quint8 = np.dtype([(\"quint8\", np.uint8, 1)])\n",
      "C:\\ProgramData\\Anaconda3\\lib\\site-packages\\tensorflow\\python\\framework\\dtypes.py:518: FutureWarning: Passing (type, 1) or '1type' as a synonym of type is deprecated; in a future version of numpy, it will be understood as (type, (1,)) / '(1,)type'.\n",
      "  _np_qint16 = np.dtype([(\"qint16\", np.int16, 1)])\n",
      "C:\\ProgramData\\Anaconda3\\lib\\site-packages\\tensorflow\\python\\framework\\dtypes.py:519: FutureWarning: Passing (type, 1) or '1type' as a synonym of type is deprecated; in a future version of numpy, it will be understood as (type, (1,)) / '(1,)type'.\n",
      "  _np_quint16 = np.dtype([(\"quint16\", np.uint16, 1)])\n",
      "C:\\ProgramData\\Anaconda3\\lib\\site-packages\\tensorflow\\python\\framework\\dtypes.py:520: FutureWarning: Passing (type, 1) or '1type' as a synonym of type is deprecated; in a future version of numpy, it will be understood as (type, (1,)) / '(1,)type'.\n",
      "  _np_qint32 = np.dtype([(\"qint32\", np.int32, 1)])\n",
      "C:\\ProgramData\\Anaconda3\\lib\\site-packages\\tensorflow\\python\\framework\\dtypes.py:525: FutureWarning: Passing (type, 1) or '1type' as a synonym of type is deprecated; in a future version of numpy, it will be understood as (type, (1,)) / '(1,)type'.\n",
      "  np_resource = np.dtype([(\"resource\", np.ubyte, 1)])\n",
      "C:\\ProgramData\\Anaconda3\\lib\\site-packages\\tensorboard\\compat\\tensorflow_stub\\dtypes.py:541: FutureWarning: Passing (type, 1) or '1type' as a synonym of type is deprecated; in a future version of numpy, it will be understood as (type, (1,)) / '(1,)type'.\n",
      "  _np_qint8 = np.dtype([(\"qint8\", np.int8, 1)])\n",
      "C:\\ProgramData\\Anaconda3\\lib\\site-packages\\tensorboard\\compat\\tensorflow_stub\\dtypes.py:542: FutureWarning: Passing (type, 1) or '1type' as a synonym of type is deprecated; in a future version of numpy, it will be understood as (type, (1,)) / '(1,)type'.\n",
      "  _np_quint8 = np.dtype([(\"quint8\", np.uint8, 1)])\n",
      "C:\\ProgramData\\Anaconda3\\lib\\site-packages\\tensorboard\\compat\\tensorflow_stub\\dtypes.py:543: FutureWarning: Passing (type, 1) or '1type' as a synonym of type is deprecated; in a future version of numpy, it will be understood as (type, (1,)) / '(1,)type'.\n",
      "  _np_qint16 = np.dtype([(\"qint16\", np.int16, 1)])\n",
      "C:\\ProgramData\\Anaconda3\\lib\\site-packages\\tensorboard\\compat\\tensorflow_stub\\dtypes.py:544: FutureWarning: Passing (type, 1) or '1type' as a synonym of type is deprecated; in a future version of numpy, it will be understood as (type, (1,)) / '(1,)type'.\n",
      "  _np_quint16 = np.dtype([(\"quint16\", np.uint16, 1)])\n",
      "C:\\ProgramData\\Anaconda3\\lib\\site-packages\\tensorboard\\compat\\tensorflow_stub\\dtypes.py:545: FutureWarning: Passing (type, 1) or '1type' as a synonym of type is deprecated; in a future version of numpy, it will be understood as (type, (1,)) / '(1,)type'.\n",
      "  _np_qint32 = np.dtype([(\"qint32\", np.int32, 1)])\n",
      "C:\\ProgramData\\Anaconda3\\lib\\site-packages\\tensorboard\\compat\\tensorflow_stub\\dtypes.py:550: FutureWarning: Passing (type, 1) or '1type' as a synonym of type is deprecated; in a future version of numpy, it will be understood as (type, (1,)) / '(1,)type'.\n",
      "  np_resource = np.dtype([(\"resource\", np.ubyte, 1)])\n"
     ]
    },
    {
     "name": "stdout",
     "output_type": "stream",
     "text": [
      "[[5, 2, 631, 479]] ['laptop'] [0.5144788026809692]\n",
      "[[2, 1, 636, 483]] ['laptop'] [0.511023998260498]\n",
      "[[3, -1, 636, 481]] ['laptop'] [0.7668759226799011]\n",
      "[] [] []\n",
      "[[13, 1, 634, 480]] ['laptop'] [0.5116662383079529]\n",
      "[[16, 3, 636, 481]] ['laptop'] [0.8166930675506592]\n",
      "[] [] []\n",
      "[[20, 6, 631, 479]] ['laptop'] [0.7649567723274231]\n",
      "[[26, 8, 630, 479]] ['laptop'] [0.5152963995933533]\n",
      "[[21, 3, 630, 484]] ['laptop'] [0.5481030344963074]\n",
      "[] [] []\n",
      "[[20, 1, 637, 480]] ['laptop'] [0.6486691832542419]\n",
      "[[301, 5, 638, 472]] ['laptop'] [0.6270696520805359]\n",
      "[[292, 0, 641, 476]] ['laptop'] [0.5710282921791077]\n",
      "[[29, -6, 635, 486]] ['laptop'] [0.5760695338249207]\n",
      "[[283, 4, 641, 473]] ['laptop'] [0.7519353628158569]\n",
      "[] [] []\n",
      "[] [] []\n",
      "[[5, 0, 637, 478]] ['train'] [0.8927509784698486]\n",
      "[] [] []\n",
      "[[270, 89, 437, 374], [243, 382, 300, 479], [179, 103, 260, 147]] ['potted plant', 'bottle', 'tv'] [0.8301900029182434, 0.8026301264762878, 0.5188816785812378]\n",
      "[[283, 232, 456, 477], [209, 229, 286, 268], [90, 176, 180, 276]] ['potted plant', 'tv', 'tv'] [0.8671911954879761, 0.6868512630462646, 0.6788486242294312]\n",
      "[[326, 209, 512, 470], [250, 205, 327, 246], [353, 347, 450, 479]] ['potted plant', 'tv', 'vase'] [0.8630930185317993, 0.7420674562454224, 0.670092761516571]\n",
      "[[341, 134, 528, 448], [265, 149, 340, 192], [152, 85, 226, 193]] ['potted plant', 'tv', 'tv'] [0.873041033744812, 0.8337627649307251, 0.5987516641616821]\n",
      "[[321, 109, 498, 412], [279, 401, 334, 479], [248, 127, 323, 170]] ['potted plant', 'bottle', 'tv'] [0.9217112064361572, 0.9030853509902954, 0.8955367207527161]\n",
      "[[273, 380, 331, 479], [250, 120, 327, 162], [320, 99, 506, 405], [133, 49, 206, 160]] ['bottle', 'tv', 'potted plant', 'tv'] [0.9614974856376648, 0.9282407164573669, 0.9249705076217651, 0.6859487891197205]\n",
      "[[294, 354, 347, 483], [343, 81, 529, 388], [270, 100, 346, 145]] ['bottle', 'potted plant', 'tv'] [0.9564627408981323, 0.9055891036987305, 0.6474291682243347]\n",
      "[[299, 348, 358, 480], [343, 76, 535, 385], [274, 97, 349, 143], [375, 230, 472, 390]] ['bottle', 'potted plant', 'tv', 'vase'] [0.914381742477417, 0.8223448991775513, 0.6351044774055481, 0.5354854464530945]\n",
      "[[299, 346, 359, 480], [354, 69, 540, 390], [376, 227, 478, 392]] ['bottle', 'potted plant', 'vase'] [0.9358463883399963, 0.8136734962463379, 0.5729645490646362]\n",
      "[[300, 346, 358, 480], [354, 78, 540, 393], [277, 100, 357, 145], [375, 232, 477, 396]] ['bottle', 'potted plant', 'tv', 'vase'] [0.9103747606277466, 0.8326663374900818, 0.8148196935653687, 0.5523534417152405]\n",
      "[[295, 340, 352, 480], [358, 87, 544, 385]] ['bottle', 'potted plant'] [0.9602413177490234, 0.9013527631759644]\n",
      "[[269, 379, 325, 480], [343, 129, 523, 419], [277, 119, 359, 166]] ['bottle', 'potted plant', 'tv'] [0.9591866731643677, 0.8698648810386658, 0.7732182145118713]\n",
      "[[273, 175, 454, 452], [224, 154, 306, 203], [-1, 28, 111, 381]] ['potted plant', 'tv', 'person'] [0.7781569957733154, 0.7387503981590271, 0.6051506996154785]\n",
      "[[225, 181, 396, 465], [170, 164, 250, 215]] ['potted plant', 'tv'] [0.8843957185745239, 0.7411741018295288]\n",
      "[[161, 152, 245, 202], [229, 169, 388, 438], [125, 426, 161, 479]] ['tv', 'potted plant', 'bottle'] [0.9110972881317139, 0.7985599040985107, 0.6707340478897095]\n",
      "[[126, 409, 180, 478], [173, 139, 252, 188], [222, 153, 400, 421]] ['bottle', 'tv', 'potted plant'] [0.955634593963623, 0.9071388244628906, 0.8089657425880432]\n",
      "[[128, 407, 182, 478], [173, 139, 253, 187], [219, 153, 401, 421]] ['bottle', 'tv', 'potted plant'] [0.9592030644416809, 0.8922172784805298, 0.8455324172973633]\n",
      "[[141, 400, 191, 478], [174, 136, 256, 182], [233, 149, 406, 430], [47, 66, 135, 168]] ['bottle', 'tv', 'potted plant', 'tv'] [0.9598649740219116, 0.8481641411781311, 0.8328410387039185, 0.5469580292701721]\n",
      "[[133, 390, 191, 481], [172, 130, 251, 181], [226, 146, 404, 422]] ['bottle', 'tv', 'potted plant'] [0.9635733366012573, 0.892936110496521, 0.8649868965148926]\n",
      "[[146, 380, 202, 481], [235, 144, 413, 417], [179, 124, 259, 177]] ['bottle', 'potted plant', 'tv'] [0.9543771743774414, 0.8698639273643494, 0.6902431845664978]\n",
      "[[150, 364, 209, 479], [234, 128, 416, 401], [182, 112, 263, 166]] ['bottle', 'potted plant', 'tv'] [0.9412017464637756, 0.849337637424469, 0.8401291370391846]\n",
      "[[132, 363, 189, 481], [224, 131, 391, 400], [169, 108, 250, 162]] ['bottle', 'potted plant', 'tv'] [0.9732542634010315, 0.8279784321784973, 0.54111647605896]\n",
      "[[149, 361, 206, 480], [230, 131, 410, 403], [181, 109, 262, 163]] ['bottle', 'potted plant', 'tv'] [0.9450316429138184, 0.8399248123168945, 0.6296695470809937]\n",
      "[[167, 377, 221, 481], [224, 138, 383, 416], [150, 150, 227, 192]] ['bottle', 'potted plant', 'tv'] [0.917680561542511, 0.9158338904380798, 0.8298136591911316]\n",
      "[[86, 206, 170, 257], [153, 172, 325, 467]] ['tv', 'potted plant'] [0.7728136777877808, 0.7550010681152344]\n",
      "[[87, 200, 170, 250], [159, 162, 343, 460], [614, 224, 637, 286], [0, 151, 22, 268]] ['tv', 'potted plant', 'bottle', 'tv'] [0.8969731330871582, 0.7264052629470825, 0.5314005613327026, 0.514302134513855]\n",
      "[[89, 206, 173, 260], [171, 169, 336, 466]] ['tv', 'potted plant'] [0.6728551983833313, 0.6190819144248962]\n",
      "[[166, 169, 347, 468], [-1, 164, 31, 286]] ['potted plant', 'tv'] [0.7371775507926941, 0.6182887554168701]\n",
      "[[99, 206, 182, 257], [164, 169, 343, 469], [-1, 163, 31, 286], [437, 395, 639, 480]] ['tv', 'potted plant', 'tv', 'toilet'] [0.8068557381629944, 0.7377256155014038, 0.6045510768890381, 0.5223613977432251]\n",
      "[[166, 168, 348, 466], [97, 205, 182, 255], [0, 165, 30, 283]] ['potted plant', 'tv', 'tv'] [0.8009635210037231, 0.6003850698471069, 0.5592408180236816]\n",
      "[[174, 170, 344, 470], [0, 164, 30, 285]] ['potted plant', 'tv'] [0.7836461663246155, 0.5447566509246826]\n",
      "[[99, 217, 186, 267], [175, 178, 346, 476]] ['tv', 'potted plant'] [0.8081815242767334, 0.7445425987243652]\n",
      "[[181, 173, 334, 477], [0, 167, 32, 285]] ['potted plant', 'tv'] [0.8231312036514282, 0.5315563082695007]\n",
      "[[166, 183, 349, 460], [0, 169, 28, 286]] ['potted plant', 'tv'] [0.8135318160057068, 0.569959282875061]\n",
      "[[160, 168, 345, 471]] ['potted plant'] [0.8437227010726929]\n",
      "[[96, 206, 179, 256], [174, 166, 336, 467]] ['tv', 'potted plant'] [0.8581898808479309, 0.829217791557312]\n",
      "[[169, 165, 346, 463], [98, 202, 181, 254], [0, 154, 28, 278]] ['potted plant', 'tv', 'tv'] [0.8311665058135986, 0.7713663578033447, 0.5715309381484985]\n",
      "[[94, 206, 180, 258], [166, 167, 340, 466], [0, 163, 28, 285]] ['tv', 'potted plant', 'tv'] [0.8138529658317566, 0.7537211179733276, 0.549192488193512]\n",
      "[[166, 166, 343, 464], [95, 203, 178, 255], [0, 155, 26, 279]] ['potted plant', 'tv', 'tv'] [0.7630546689033508, 0.7012795805931091, 0.5547546744346619]\n",
      "[[100, 206, 184, 257], [170, 168, 336, 465]] ['tv', 'potted plant'] [0.786649763584137, 0.7416784763336182]\n",
      "[[168, 163, 344, 460], [101, 204, 184, 254]] ['potted plant', 'tv'] [0.7375503182411194, 0.6557912826538086]\n",
      "[[163, 169, 345, 466], [102, 206, 185, 257]] ['potted plant', 'tv'] [0.7426776885986328, 0.6133125424385071]\n",
      "[[100, 208, 184, 258], [168, 169, 348, 469], [0, 166, 34, 282]] ['tv', 'potted plant', 'tv'] [0.8752934336662292, 0.7859693765640259, 0.7290833592414856]\n",
      "[[0, 167, 34, 288], [174, 170, 339, 467], [100, 209, 186, 261]] ['tv', 'potted plant', 'tv'] [0.7725908756256104, 0.7601918578147888, 0.5706204771995544]\n",
      "[[0, 164, 36, 287], [164, 172, 352, 467], [102, 207, 187, 259]] ['tv', 'potted plant', 'tv'] [0.7817630171775818, 0.7221755981445312, 0.5371063351631165]\n",
      "[[102, 206, 186, 258], [176, 169, 347, 467], [0, 162, 36, 288]] ['tv', 'potted plant', 'tv'] [0.7805609703063965, 0.7607172727584839, 0.5393928289413452]\n",
      "[[164, 157, 346, 461], [93, 200, 179, 252]] ['potted plant', 'tv'] [0.8521538376808167, 0.6129183769226074]\n",
      "[[177, 117, 347, 384], [102, 154, 186, 196], [620, 203, 639, 268]] ['potted plant', 'tv', 'bottle'] [0.7205932140350342, 0.5838620662689209, 0.5330895781517029]\n",
      "[[73, 197, 160, 249], [135, 152, 327, 450], [387, 363, 637, 479]] ['tv', 'potted plant', 'toilet'] [0.7912524938583374, 0.6148474216461182, 0.5767126083374023]\n",
      "[[69, 180, 158, 230], [139, 135, 327, 430], [317, 341, 639, 479], [70, 420, 138, 480]] ['tv', 'potted plant', 'toilet', 'bottle'] [0.8106430768966675, 0.8044674396514893, 0.7517738342285156, 0.5513220429420471]\n",
      "[[75, 408, 144, 479], [134, 132, 327, 423], [70, 174, 158, 226]] ['bottle', 'potted plant', 'tv'] [0.8207600712776184, 0.7767006754875183, 0.6757906079292297]\n",
      "[[81, 183, 167, 239], [151, 143, 324, 428]] ['tv', 'potted plant'] [0.6071015000343323, 0.5854969024658203]\n",
      "[[85, 192, 170, 244], [143, 150, 334, 448]] ['tv', 'potted plant'] [0.7965721487998962, 0.6607215404510498]\n",
      "[[86, 193, 170, 244], [323, 351, 632, 479], [159, 150, 341, 447]] ['tv', 'toilet', 'potted plant'] [0.7935555577278137, 0.5576396584510803, 0.5001233816146851]\n",
      "[[288, 345, 644, 479], [87, 191, 173, 243]] ['toilet', 'tv'] [0.8217505812644958, 0.8212502002716064]\n",
      "[[88, 189, 171, 242], [299, 344, 642, 479], [164, 140, 344, 433]] ['tv', 'toilet', 'potted plant'] [0.6755768656730652, 0.6746808886528015, 0.6413085460662842]\n",
      "[[87, 339, 146, 449], [177, 130, 327, 410], [7, 409, 309, 479], [96, 158, 182, 199], [0, 84, 34, 193]] ['bottle', 'potted plant', 'laptop', 'tv', 'tv'] [0.8790261149406433, 0.848070502281189, 0.7170562744140625, 0.6493810415267944, 0.5414356589317322]\n",
      "[[481, 254, 641, 478], [2, 158, 230, 482], [-2, 0, 218, 246]] ['person', 'laptop', 'potted plant'] [0.9095235466957092, 0.7495975494384766, 0.5407086610794067]\n",
      "[] [] []\n",
      "[[0, 358, 318, 479]] ['keyboard'] [0.6175194382667542]\n",
      "[[0, 2, 370, 485]] ['laptop'] [0.9332290291786194]\n",
      "[[11, -1, 633, 477]] ['laptop'] [0.5017181634902954]\n",
      "[[40, -2, 611, 480]] ['laptop'] [0.7689786553382874]\n",
      "[[40, -2, 611, 480]] ['laptop'] [0.7689786553382874]\n",
      "[[40, -2, 611, 480]] ['laptop'] [0.7689786553382874]\n",
      "[] [] []\n",
      "[[-6, 12, 636, 473]] ['laptop'] [0.7124025225639343]\n",
      "[[-6, 12, 636, 473]] ['laptop'] [0.7124025225639343]\n",
      "[[-6, 12, 636, 473]] ['laptop'] [0.7124025225639343]\n",
      "[[-6, 12, 636, 473]] ['laptop'] [0.7124025225639343]\n",
      "[[-6, 12, 636, 473]] ['laptop'] [0.7124025225639343]\n",
      "[[-6, 12, 636, 473]] ['laptop'] [0.7124025225639343]\n",
      "[[-6, 12, 636, 473]] ['laptop'] [0.7124025225639343]\n",
      "[[-6, 12, 636, 473]] ['laptop'] [0.7124025225639343]\n",
      "[[-6, 12, 636, 473]] ['laptop'] [0.7124025225639343]\n",
      "[[-6, 12, 636, 473]] ['laptop'] [0.7124025225639343]\n"
     ]
    }
   ],
   "source": [
    "# release resources\n",
    "webcam.release()\n",
    "cv2.destroyAllWindows()"
   ]
  }
 ],
 "metadata": {
  "kernelspec": {
   "display_name": "Python 3",
   "language": "python",
   "name": "python3"
  },
  "language_info": {
   "codemirror_mode": {
    "name": "ipython",
    "version": 3
   },
   "file_extension": ".py",
   "mimetype": "text/x-python",
   "name": "python",
   "nbconvert_exporter": "python",
   "pygments_lexer": "ipython3",
   "version": "3.7.6"
  }
 },
 "nbformat": 4,
 "nbformat_minor": 4
}
